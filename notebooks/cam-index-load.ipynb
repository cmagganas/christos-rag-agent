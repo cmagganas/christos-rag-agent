{
  "nbformat": 4,
  "nbformat_minor": 0,
  "metadata": {
    "colab": {
      "provenance": []
    },
    "kernelspec": {
      "name": "python3",
      "display_name": "Python 3"
    },
    "language_info": {
      "name": "python"
    }
  },
  "cells": [
    {
      "cell_type": "code",
      "source": [
        "pip install llama-index"
      ],
      "metadata": {
        "id": "2R_dL22oV2_j"
      },
      "execution_count": null,
      "outputs": []
    },
    {
      "cell_type": "code",
      "source": [
        "import os\n",
        "import getpass\n",
        "\n",
        "os.environ[\"OPENAI_API_KEY\"] = getpass.getpass(\"OpenAI API Key: \")"
      ],
      "metadata": {
        "colab": {
          "base_uri": "https://localhost:8080/"
        },
        "id": "p2pwGHewWkBD",
        "outputId": "e030fb88-69ec-4e08-bd7c-ece8ccf05651"
      },
      "execution_count": 9,
      "outputs": [
        {
          "name": "stdout",
          "output_type": "stream",
          "text": [
            "OpenAI API Key: ··········\n"
          ]
        }
      ]
    },
    {
      "cell_type": "code",
      "execution_count": null,
      "metadata": {
        "id": "-sApY4EpU8UT"
      },
      "outputs": [],
      "source": [
        "from google.colab import auth\n",
        "auth.authenticate_user()\n",
        "\n",
        "!gsutil cp -r gs://aim-community-session-2023-10-18/cam_vec_index/ ."
      ]
    },
    {
      "cell_type": "code",
      "source": [
        "from llama_index import StorageContext, load_index_from_storage\n",
        "\n",
        "# Rebuild storage context\n",
        "storage_context = StorageContext.from_defaults(persist_dir=\"cam_vec_index\")\n",
        "\n",
        "# Load index from the storage context\n",
        "new_index = load_index_from_storage(storage_context)\n",
        "\n",
        "new_query_engine = new_index.as_query_engine()\n",
        "response = new_query_engine.query(\"who is this text about?\")\n",
        "print(response)"
      ],
      "metadata": {
        "colab": {
          "base_uri": "https://localhost:8080/"
        },
        "id": "PblH1COnVvVm",
        "outputId": "1887ba8f-6de8-4ac5-bf05-80a8be4d55a8"
      },
      "execution_count": 10,
      "outputs": [
        {
          "output_type": "stream",
          "name": "stderr",
          "text": [
            "[nltk_data] Downloading package punkt to /tmp/llama_index...\n",
            "[nltk_data]   Unzipping tokenizers/punkt.zip.\n"
          ]
        },
        {
          "output_type": "stream",
          "name": "stdout",
          "text": [
            "This text is about Christos.\n"
          ]
        }
      ]
    },
    {
      "cell_type": "code",
      "source": [
        "response = new_query_engine.query(\"What is Christos proficient in?\")\n",
        "print(response)"
      ],
      "metadata": {
        "colab": {
          "base_uri": "https://localhost:8080/"
        },
        "id": "m3HdMD05XaJB",
        "outputId": "dced177e-95c6-433f-c99d-681104b8cb22"
      },
      "execution_count": 14,
      "outputs": [
        {
          "output_type": "stream",
          "name": "stdout",
          "text": [
            "Christos is proficient in Python, SQL, R, HTML, Git, Bash, Unix, Excel, Visual Basic, NumPy, Pandas, Matplotlib, Seaborn, Scipy, Scikit-learn, MLLib, PySpark (Koalas), Jupyter, FastAPI, Flask, Django, Altair, Streamlit.\n"
          ]
        }
      ]
    },
    {
      "cell_type": "code",
      "source": [
        "response = new_query_engine.query(\"What is Christos not proficient in?\")\n",
        "print(response)"
      ],
      "metadata": {
        "colab": {
          "base_uri": "https://localhost:8080/"
        },
        "id": "va9iBzC9WZ_v",
        "outputId": "d1b6bb87-5b25-4e44-bce7-801f179a5cf2"
      },
      "execution_count": 13,
      "outputs": [
        {
          "output_type": "stream",
          "name": "stdout",
          "text": [
            "Christos is not proficient in C++.\n"
          ]
        }
      ]
    },
    {
      "cell_type": "code",
      "source": [
        "response = new_query_engine.query(\"What would Christos' ideal role at a company be?\")\n",
        "print(response)"
      ],
      "metadata": {
        "colab": {
          "base_uri": "https://localhost:8080/"
        },
        "id": "c8FV_Uu_XbcT",
        "outputId": "9fb88c7a-4cdb-462a-e53f-9fc412229e0e"
      },
      "execution_count": 15,
      "outputs": [
        {
          "output_type": "stream",
          "name": "stdout",
          "text": [
            "Christos' ideal role at a company would be in an environment that encourages learning and growth, with a team that is passionate about what they do and a mission to make a positive impact. He is looking for a company that is focused on solving real-world problems using AI and technology or scientific research. Ideally, the company would align with his values, enable his working style, and encourage him to grow and learn. He wants to be in a role that leverages his experience and strengths to add value to the team, while also allowing him to gain industry experience in AI and contribute to a greater good. Ultimately, he hopes to build something of his own that solves a real-world problem through AI.\n"
          ]
        }
      ]
    }
  ]
}