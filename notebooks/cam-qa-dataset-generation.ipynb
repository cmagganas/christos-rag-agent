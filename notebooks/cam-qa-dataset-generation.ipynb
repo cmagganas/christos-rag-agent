{
 "cells": [
  {
   "cell_type": "markdown",
   "metadata": {},
   "source": [
    "# QuestionGeneration [🔗](https://gpt-index.readthedocs.io/en/latest/examples/evaluation/QuestionGeneration.html)\n",
    "This notebook walks through the process of generating a list of questions that could be asked about your data. This is useful for setting up an evaluation pipeline using the FaithfulnessEvaluator and RelevancyEvaluator evaluation tools."
   ]
  },
  {
   "cell_type": "code",
   "execution_count": 1,
   "metadata": {},
   "outputs": [],
   "source": [
    "import nest_asyncio\n",
    "nest_asyncio.apply()"
   ]
  },
  {
   "cell_type": "code",
   "execution_count": 2,
   "metadata": {},
   "outputs": [],
   "source": [
    "import logging\n",
    "import sys\n",
    "import pandas as pd\n",
    "\n",
    "logging.basicConfig(stream=sys.stdout, level=logging.INFO)\n",
    "logging.getLogger().addHandler(logging.StreamHandler(stream=sys.stdout))"
   ]
  },
  {
   "cell_type": "code",
   "execution_count": 3,
   "metadata": {},
   "outputs": [],
   "source": [
    "from llama_index.evaluation import DatasetGenerator, RelevancyEvaluator\n",
    "from llama_index import (\n",
    "    SimpleDirectoryReader,\n",
    "    VectorStoreIndex,\n",
    "    ServiceContext,\n",
    "    LLMPredictor,\n",
    "    Response,\n",
    ")\n",
    "from llama_index.llms import OpenAI"
   ]
  },
  {
   "cell_type": "code",
   "execution_count": 4,
   "metadata": {},
   "outputs": [],
   "source": [
    "reader = SimpleDirectoryReader(\"../data/\") \n",
    "documents = reader.load_data()"
   ]
  },
  {
   "cell_type": "code",
   "execution_count": 5,
   "metadata": {},
   "outputs": [
    {
     "data": {
      "text/plain": [
       "[Document(id_='01dfa701-d5c3-4eb2-8076-6df151f81403', embedding=None, metadata={'page_label': '1', 'file_name': 'Christos2023Q4Goals+Values.pdf'}, excluded_embed_metadata_keys=[], excluded_llm_metadata_keys=[], relationships={}, hash='2673340e6a6f92d2c5299e5ba02a3e5c41fea9fee830b5c439006fd30f9148d8', text=\"Christos'\\n2023\\nQ4\\nGoals\\nand\\nValues\\nWhat\\ndo\\nI\\nwant\\nto\\naccomplish?\\nI\\nwant\\nto\\nmake\\na\\npositive\\nimpact\\non\\nsociety\\nby\\naccelerating\\ntechnological\\nadvancement\\nusing\\nArtificial\\nIntelligence\\nand\\nMachine\\nLearning\\ntools\\nto\\nsolve\\nreal-world\\nproblems.\\nI\\nam\\nvery\\npassionate\\nabout\\nit\\nand\\nenjoying\\nlearning\\nas\\nmuch\\nas\\nI\\ncan\\non\\nthe\\ntopic.\\nI\\nlove\\nhelping\\npeople\\nand\\nlearning\\nabout\\ntheir\\nexperiences.\\nI\\nam\\nlooking\\nfor\\na\\nrole\\nin\\nan\\nenvironment\\nthat\\nencourages\\nlearning,\\ngrowth\\n(subject-matter\\nexpertise),\\na\\nteam\\nthat\\nis\\nalso\\npassionate\\nabout\\nwhat\\nthey\\ndo\\nand\\nideally\\non\\na\\nmission\\nto\\nmake\\na\\npositive\\nimpact\\nI\\nalign\\nwith.\\nI\\nwant\\nto\\nfind\\na\\ncompany\\nthat\\nis\\nfocused\\non\\nsolving\\nreal\\nworld\\nproblems\\nwith\\nAI\\nusing\\ntechnology\\nand/or\\nscientific\\nresearch.\\nIdeally\\nthis\\ncompany\\nmatches\\nmy\\nvalues,\\nenables\\nmy\\nworking\\nstyle\\nand\\nencourages\\nme\\nto\\ngrow\\nand\\nlearn.\\nI\\nwant\\nto\\nbe\\nin\\na\\nrole\\nthat\\nleverages\\nmy\\nexperience\\nand\\nstrengths\\nto\\nadd\\nvalue\\nto\\nthe\\nteam.\\nI\\nhope\\nthat\\nthe\\nrole\\nwill\\nalso\\nallow\\nme\\nto\\ngain\\na\\nbreadth\\nand\\ndepth\\nof\\nindustry\\nexperience\\nin\\nAI\\nsuch\\nthat\\nI\\ncan\\nlearn\\nand\\ncontribute\\nto\\na\\ngreater\\ngood\\nand\\none\\nday\\nbuild\\nsomething\\nof\\nmy\\nown\\nthat\\nsolves\\na\\nreal\\nworld\\nproblem\\nthrough\\nAI.\", start_char_idx=None, end_char_idx=None, text_template='{metadata_str}\\n\\n{content}', metadata_template='{key}: {value}', metadata_seperator='\\n'),\n",
       " Document(id_='0c711527-9071-47c0-8acd-70cb1ba5d8a3', embedding=None, metadata={'page_label': '2', 'file_name': 'Christos2023Q4Goals+Values.pdf'}, excluded_embed_metadata_keys=[], excluded_llm_metadata_keys=[], relationships={}, hash='709362267194434c9b4f947d45e0c1c3b7da662451e48b065e0b2e10abcdab0b', text=\"W h a ta mIg o o da tp r o f e s s i o n a l l y ?\\nPositive:Iamtheluminoustorchbearer,guidingusthroughuncertaintytotherealmsofpromise.Whengivenachance,Iupliftteamspiritandpropelforwardmomentum.e.g.Ineveryrole,myunwaveringoptimismgalvanizedteamstoachievegreatness.\\nEmpathetic:Mykeensenseforothers'emotionsbridgesthegapbetweentechnicalmindsandthehumanspirit,seamlesslyconnectingdiversepersonalitiestowardsaunitedmission.e.g.AtCE,Istoodasanexusbetweensales,analytics,andclients,constantlywalkingintheirshoesandamplifyingunheardvoices.Similarly ,atCisco,Iresonatedwithcross-departmen talchalleng es,forgingconnections.\\nHumble:Iviewmyselfasanevolvingcanvas,alwaysopentofeedbackandseekingavenuesforenhancemen t.e.g.Inmanagementsessions,Iardentlyseekconstructivefeedbacktorefinemyapproach.\\nPassionate:WhenI'mimmersedinmypassions,myenthusiasmiscontagious.MyfervorextendstoAI,humanconnections,music,self-betterment,andtheartoflearning.e.g.InAIworkshops,myexcitementsparksacollaborative,energeticenvironment.\\nPhilanthropic:Withaprofoundloveforhumanity ,I'mdriventoupliftlives.Throughtechnology ,I'monarelentlessquesttoleavealastingsocietalimprint.\\nHonest:Ichampionhonestyastheultimatecompass.Throughtransparency,Ibelievewefindthebestalignmen tsandsolutions.\\nEagertolearn:Iamcuriousandhaveanappetiteforknowledge.\\nDedicated:Iamunwaveringinmycommitmen t,alwaysgivingmyutmosttoeveryendeavor.\\nIntegrity:Mymoralcompassissteadfast,ensuringIactwithhonorineverysituation.\\nResourceful:Ithriveinchalleng es,alwaysfindinginnovativesolutionstocomplexproblems.\", start_char_idx=None, end_char_idx=None, text_template='{metadata_str}\\n\\n{content}', metadata_template='{key}: {value}', metadata_seperator='\\n'),\n",
       " Document(id_='3d01ffe0-d3c6-45ff-be44-09c1b591dae7', embedding=None, metadata={'page_label': '3', 'file_name': 'Christos2023Q4Goals+Values.pdf'}, excluded_embed_metadata_keys=[], excluded_llm_metadata_keys=[], relationships={}, hash='c2ba8effa4831890bfa06e9d873cca4a788217135ae655cdca629a4266283736', text=\"W o r k s t y l e\\nProjectFocus:MymostproductiveweekscomefromsettingupafocusblockforafewhoursinthemorningwhereIcanspendfocusedtimedoingdeepworkononetask/project(e.g.writingcode)\\nLearningandSelfImprovement:IhavebeenonajourneyofselfimprovementandenjoylearningabouttopicsIamcuriousabout.IspentthebetterpartofthelastfewyearstakingcoursesonAI/ML,listeningtopodcastsonthesametopicaswellasonthetopicofimprovedhealthandlifestyle(e.g.HubermanLab,whichisfocusedonapplyingscientificresearchtoeverydaybehaviors).Ithinkhavingsomededicatedtimespenttowardslearninganewskillorimprovingoneiscriticalandleadstocompoundingbenefits.\\nCommunitydiscussion:Ithoroughlyenjoymeetingwithpeopleandlearningaboutwhattheydo,why,andwhatintereststhem.Ifindpeoplefascinating,especiallywhenwesharesomemutualinterestsandarebothtryingtosolvesimilarproblems.\\nMyuniques trengthliesinbridgingthegapbe tweenengineeringandbusinessminds.B yemplo yingheigh t enedawarenessanddeep-root edempathe ticc ompassion,Ic angraspvariedperspectives,aligningt eamsbasedonsharedvalues.Thisabilityisin valuablebec auseitf os t ersc ollaborationanddrivesinno vation,ensuringthatt echnic alsolutionsalignseamlesslywithbusinessobjectives.Suchs ynergyisrareandessen tialint oday'sc omple xbusinesslandsc ape.\", start_char_idx=None, end_char_idx=None, text_template='{metadata_str}\\n\\n{content}', metadata_template='{key}: {value}', metadata_seperator='\\n'),\n",
       " Document(id_='38c6f2e5-c720-4d60-af2c-0868c3f25fa3', embedding=None, metadata={'page_label': '4', 'file_name': 'Christos2023Q4Goals+Values.pdf'}, excluded_embed_metadata_keys=[], excluded_llm_metadata_keys=[], relationships={}, hash='9d52aff71c316ca365198e5206b45dee2a8db903aee7510da7b1d62bcb25e385', text='Christos:\\nMachine\\nLearning\\nEngineer\\n&\\nLLM\\nAficionado\\nSummary\\n:\\nDriven\\nby\\na\\nprofound\\npassion\\nfor\\nAI\\nand\\nML,\\nI\\nam\\nkeen\\nto\\nharness\\ntools\\nlike\\nLangChain\\nand\\nLlamaIndex\\nto\\nadvance\\nGenAI\\napplications.\\nMy\\nexperience\\nwith\\nleading\\ncross-functional\\nteams\\nand\\nmy\\nunique\\nblend\\nof\\nprofessional\\nskills\\n-\\nfrom\\nempathy\\nand\\nhumility\\nto\\nintegrity\\nand\\ndedication\\n-\\nmake\\nme\\nan\\ninvaluable\\nasset\\nto\\nteams\\naiming\\nto\\nmake\\na\\nworld\\nof\\ndifference.\\nRecent\\nExperience\\nHighlights\\n:\\nLearvo\\n·\\nAI/ML\\nEngineer\\n·\\nSan\\nFrancisco\\nBay\\nArea\\nAug.\\n2023\\n-\\nCurrent\\n●\\nCollaborating\\ntoward\\ndevelopment\\nof\\nan\\nAI\\nagent\\ndedicated\\nto\\nassisting\\nstudents\\nin\\nsubjects\\nlike\\nmedicine\\nby\\nutilizing\\nmnemonic\\ndevices.\\n●\\nEmploying\\nadvanced\\nLLM\\ntools,\\nincluding\\nLangChain\\nand\\nOpenAI,\\nin\\nan\\nexploratory\\ndevelopment\\nframework\\nto\\nensure\\nmnemonic\\nlearning\\ntools\\nare\\neffective.\\nAI\\nMakerspace\\nAug.\\n2023\\n-\\nSep.\\n2023\\n●\\nSpecialized\\nin\\nutilizing\\nLLMs\\nfor\\nrevolutionary\\nproduct\\ndevelopment,\\nwith\\na\\nparticular\\ninclination\\ntowards\\nLangChain\\nand\\nLlamaIndex\\nframeworks.\\n●\\nPlayed\\na\\nkey\\nrole\\nin\\nopen-source\\nLLM\\nprojects,\\ncontributing\\nto\\nthe\\ndevelopment\\nof\\npioneering\\nGenerative\\nAI\\napplications.\\nKaleidoscope\\nData\\n·\\nAI/ML\\nEngineer\\n·\\nSan\\nFrancisco\\nBay\\nArea\\nApr.\\n2023\\n-\\nAug.\\n2023\\n●\\nSpearheaded\\nresearch,\\nusing\\nvarious\\nLLM\\nand\\nembedding-based\\nstrategies\\nfor\\na\\npivotal\\nclassification\\ntask.\\n●\\nSkillfully\\nmanipulated\\ndata\\nusing\\nPython\\nand\\nSQL,\\nrelying\\non\\nOpenAI\\nAPI\\nfor\\noptimized\\ndata\\nprocessing.\\nFourthBrain\\nDec.\\n2022\\n-\\nMay\\n2023\\n●\\nImmersed\\nin\\nData-centric\\nAI,\\nML\\nModeling,\\nAI\\nApplications,\\nand\\nMLOps.\\n●\\nExplored\\nthe\\nrealms\\nof\\nGenerative\\nAI,\\nwith\\nhands-on\\nexperience\\nin\\ndeploying\\nLLM\\napplications,\\nteaching\\nnew\\nstructures\\nto\\nLLMs,\\nand\\ndeveloping\\nresponsive\\nQ&A\\ntools.', start_char_idx=None, end_char_idx=None, text_template='{metadata_str}\\n\\n{content}', metadata_template='{key}: {value}', metadata_seperator='\\n'),\n",
       " Document(id_='028402ec-ec6f-4ce9-9b08-4dd009c19268', embedding=None, metadata={'page_label': '5', 'file_name': 'Christos2023Q4Goals+Values.pdf'}, excluded_embed_metadata_keys=[], excluded_llm_metadata_keys=[], relationships={}, hash='785211880a47a3dc8385edd5df46c538cbad353a80dfc1399e4e9d0ffa5da662', text='S k i l l sA p p e n d i x\\nPROFESSIONALISM:ProjectManagement,End-to-EndDevelopmen t,ResourceManagement,ConflictResolution,CriticalThinking ,StoryTelling,Leadership,Communic ation,Collabor ation,Creativity\\nPROGRAMMING:Python,SQL,R,HTML,Git,Bash,Unix,Excel,VisualBasic,NumPy,Pandas,Matplotlib,Seaborn,Scipy,Scikit-learn,MLLib,PySpark(Koalas),Jupyter,FastAPI,Flask,Django,Altair,Streamlit\\nMACHINELEARNING:MLOps,MLEngineering ,DataWrangling/Scraping,DataEngineering ,EDA,DataAnalysis,StatisticalInference,DataVisualization,CI/CD,ContinuousMonitoring\\nPLATFORMS:GCP(BigQuer y,DataStudio,Dataflow,AutoML,VertexAI,Datalab,Dataprep),AWS(S3,EC2,EMR,ElasticBeanstalk,SageMaker),Databricks,Airflow,Docker,Kubernetes,Bootstrap,Tableau\\nARTIFICIALINTELLIGENCE:NLP(LDA,BoW,TF-IDF,word2vec,seq2seq),Comput erVision(Classific ation,ObjectDetection,SemanticSegmen tation),AudioSignalProcessing(librosa,torchaudio ,wav2vec)\\nDEEPLEARNING:TensorFlo w(Lite,Keras),PyTorch(fast.ai,Lightning),MLPs,CNNs,RNNs(GRU/LS TM),GANs(cGAN/W GAN/Cy cleGAN),Transformers(BERT,DistilBERT)\\nALGORITHMS:LinearRegression,LogisticRegression,SVMs,RandomForests,XGBoost,K-means,DBSCAN,PCA', start_char_idx=None, end_char_idx=None, text_template='{metadata_str}\\n\\n{content}', metadata_template='{key}: {value}', metadata_seperator='\\n'),\n",
       " Document(id_='57244f43-05b9-4520-a84d-11c955978311', embedding=None, metadata={'page_label': '1', 'file_name': 'ChristosResume.pdf'}, excluded_embed_metadata_keys=[], excluded_llm_metadata_keys=[], relationships={}, hash='e627af1ac6007436c38a1012cbee585f85574f08bcf654585de990093f3636fd', text=\"CHRIST OS\\xa0 MA GGANAS\\n cmagganas@gmail.com  www .christ os.app  christ os-magganas/  cmagganas/ \\uf0e0 \\uf0ac \\uf0e1 \\uf09b\\nSUMMAR Y\\nMachine Learning Engineer with experience in developing ML models to solve real-world problems. Proven ability to lead cross-functional teams and manage ML projects from ideation to deployment. Strong intangibles including empathy, humility, integrity, positivity and\\ncuriosity, making me an excellent collaborator and communicator. Seeking to leverage my abilities to make a positive impact in an AI organization.\\nE XPERIENCE\\nLear v o · F o u n di n g  AI  E n g i n e e r · S a n  F r a n c i s c o  B a y  Ar e a S e p .  2023   -  C u r r e n t\\nLed the design of Learvo's mnemonic solutions using LangChain and LlamaIndex as an LLM application architect.\\nAdvanced Generative AI at Learvo, optimized learning tools, and contributed to open-source LLM projects as an AI/ML/LLM Engineer.\\nKaleidoscope Data  · AI / M L E n g i n e e r · S a n  F r a n c i s c o  B a y  Ar e a Ap r .  2023   -  Au g .  2023\\nOperationalized a Reddit Bot utilizing Retrieval-Augmented Generation via LangChain to create e\\x00ective summaries of subreddit content, in collaboration with the moderator team of an interested subreddit.\\nAnnotated a document database using OpenAI, and conducted statistical analysis to understand relationships between documents over time.\\nAssisted with executing research and writing a research paper utilizing several LLM and embedding-based approaches for a classi\\x00cation task.\\nWrote Python and SQL code to manipulate and process data, utilized OpenAI API for data processing, and conducted statistical and visual analysis of datasets using Data Science packages, Excel, etc.\\nCisco  · D a t a  S c i e n t i s t  ( I n t e r n ) · S a n  J o s e , C A M a y  2022   -  S e p .  2022\\nImplemented\\xa0ML Ops\\xa0industry best-practices to identify issues and streamline ML work\\x00ow, leading to end-to-end\\xa0observability.\\nCollaborated across teams (Data Engineering/Science/Ops) to design and implement a metric framework to streamline work\\x00ow.\\nLed the integration of MLOps Continuous Monitoring on CX BCS team using Google Cloud, providing issue detection, insight and resolution.\\nMLOps is a core function of ML engineering, focused on taking ML models to production, maintaining and monitoring them.\\nCreated dashboards using Data Studio to gain observability over ML lifecycle by visualizing stability, performance and operational metrics.\\nHighlighted current infrastructure gaps that needed to be bridged and laid out an industry best practice roadmap for our use-case speci\\x00c needs.\\nHCL T echnologies  · D a t a  An a l y s t  ( Go o g l e  C l o u d P l a t f o r m ) · R e m o t e M a r .  2021   -  S e p .  2021\\nBuilt Dashboards and performed ETL tasks on dispersed data sources, allowing management to track progress and gain visibility.\\nCreated dashboards using Data Studio to improve our engineer's time use e\\x00ciency. Our insights improved productivity by ~10%.\\nEstablished and upheld the analytical and reporting set for our team, utilized data to \\x00nd improvement opportunities and make proposals to managers and stake-holders.\\nTook ownership of pipelines and analytical tools, keeping well documented instructions for processes while presenting results to non-technical folks.\\nProvided ongoing and ad-hoc analysis on existing reports, writing two or three SQL scripts from scratch for ETL on a daily basis.\\nCommer cial Ener gy o f Califor nia · D a t a  An a l y s t · O a k l a n d, C A S e p .  2019   -  N o v .  2020\\nLed initiative to automate all of our time-intensive manual analyses and reports, improving e\\x00ciency and increasing revenue.\\nResponsible for analyzing customer usage data to make recommendations to our customers, often cutting their bill by 25% .\\nReported natural gas price volatility for market changes versus historical data with visualizations for purchasing decisions daily.\\nBuilt models to automate savings analyses through self-initiative, rigorous cooperative e\\x00orts and research, reducing ~10 hours of work weekly for each individual involved.\\nLed the onboarding and instruction of a strategic savings plan generating thousands of dollars, which I also presented to C-level executives.\\nPr oper ty Management & Dev elopment  · M a n a g e r · P i n o l e , C A S e p .  2013   -  S e p .  2019\\nEstablish rental rates, Organize business expenses for 10+ residential/commercial properties, Supervising construction site overseeing ~10+ workers\\nEDUCA TION\\nAI Mak er sp ace Au g .  2023   -  S e p .  2023\\nLLM Ops  \\nPro\\x00cient in leveraging LLMs for product development, creating intricate apps using LangChain and LlamaIndex frameworks, contributing to open-source LLM projects, and collaborating on end-to-end Generative AI applications.\\nFour thBrain D e c .  2022   -  M a y  2023\\nMachine Learning Engineer  \\nMLE: Data-centric AI, ML Modeling, AI Applications, and MLOps\\nBuilding Gen AI: Build, deploy, and share an application using an LLM (HuggingFace Spaces) leveraging model \\x00ne-tuning and prompt engineering to optimize output.\\nBuilding with LLMs: Build and deploy LLM apps using open-source tools and frameworks. Fine-Tune LLMs, teach LLMs new structure, and build Q&A tools for your docs.\\nUniv er sity o f Colorado, Boulder J a n .  2022   -  C u r r e n t\\nM.S. Data Science 2023 \\nDS is a multidisciplinary \\x00eld that focuses on extracting knowledge and insights from datasets using a range of skills in applied mathematics, statistics and computer science.\\nSpringbo ar d Data Science Boot camp\\nData Wrangling and Visualization, Storytelling, Machine Learning, Big Data. 500+ hours of coursework. 10+ Jupyter Notebooks. 2 Capstones. Weekly mentor meetings.\\nUniv er sity o f Califor nia, Santa Barb ara\\nB.S. Actuarial Science 2017 \\nAS is a discipline that assesses \\x00nancial risks, using mathematical and statistical methods to de\\x00ne, analyze, and solve the \\x00nancial implications of uncertain future events\\nPR O JECTS\\nR e a l - t i m e  M u l t i l i n g u a l  C u s t o m  K e y w o r d S p o t t i n g 2023\\nDeveloped a lightweight few-shot learning model for personalization of keyword spotting or wake-word detection\\nTools used include AWS EC2, Hugging Face, GitHub, FastAPI, TensorFlow, Streamlit, Python\\nAchieved low False Rejection Rate (FRR) of 3.94% and False Acceptance Rate (FAR) of 5.78%\\nEnd-to-end run-time (Keyword selection, recording, \\x00ne-tune training and inference prediction) about 2-3 minutes\\nS p o t i f y  P l a y l i s t  R e c o m m e n de r  u s i n g  u s e r  t a s t e  v i a  AP I 2021\\nSpotify App that takes user's music taste to recommend songs and create a playlist for them using Spotify's Web API in under one minute.\\nCER TIFICA TES\\nGo o g l e  C l o u d · P r o f e s s i o n a l  M a c h i n e  Le a r n i n g  E n g i n e e r 2021\\n• Frame ML problems • Develop ML models • Automate & orchestrate ML pipelines • Monitor, optimize, and maintain ML solutions\\nPR OFESSIONALISM : Project Management, End-to-End Development, Resource Management, Con\\x00ict Resolution, Critical Thinking, Story Telling, Leadership, Communication, Collaboration, Creativity\\nPR OGRAMMING : Python, SQL, R, HTML, Git, Bash, Unix, Excel, Visual Basic, NumPy, Pandas, Matplotlib, Seaborn, Scipy, Scikit-learn, MLLib, PySpark (Koalas), Jupyter, FastAPI, Flask, Django, Altair, Streamlit\\nMA CHINE LE ARNING : ML Ops, ML Engineering, Data Wrangling/Scraping, Data Engineering, EDA, Data Analysis, Statistical Inference, Data Visualization, CI/CD, Continuous Monitoring\\nPL A TFORMS : GCP (BigQuery, Data Studio, Data\\x00ow, AutoML, VertexAI, Datalab, Dataprep), AWS (S3, EC2, EMR, Elastic Beanstalk, SageMaker), Databricks, Air\\x00ow, Docker, Kubernetes, Bootstrap, Tableau\\nAR TIFICIAL INTELLIGENCE : NLP (LDA, BoW, TF-IDF, word2vec, seq2seq), Computer Vision (Classi\\x00cation, Object Detection, Semantic Segmentation), Audio Signal Processing (librosa, torchaudio, wav2vec)\\nDEEP LE ARNING : TensorFlow (Lite, Keras), PyTorch (fast.ai, Lightning), MLPs, CNNs, RNNs (GRU/LSTM), GANs (cGAN/WGAN/CycleGAN), Transformers (BERT, DistilBERT)\\nAL GORITHMS : Linear Regression, Logistic Regression, SVMs, Random Forests, XGBoost, K-means, DBSCAN, PCASKILLS\\nV OL UNTEERING\\nAs c e n s i o n  S u m m e r  C a m p · Le a de r / C o u n s e l o r · R e dwa y , C A\\nCamp Counselor is responsible for youth development, safety, youth development, monitoring behavior, aiding campers struggling with separation anxiety and promoting the core values of the Ascension Greek Orthodox Church. Safety is the primary function of the position.\", start_char_idx=None, end_char_idx=None, text_template='{metadata_str}\\n\\n{content}', metadata_template='{key}: {value}', metadata_seperator='\\n'),\n",
       " Document(id_='0b9eaa3a-fe80-4620-b75e-8c2f37dff015', embedding=None, metadata={'page_label': '2', 'file_name': 'ChristosResume.pdf'}, excluded_embed_metadata_keys=[], excluded_llm_metadata_keys=[], relationships={}, hash='cd29cdf895e020042e6ada5fa4e736202199ed9716c9ad20f05abcb8a1c8b189', text='', start_char_idx=None, end_char_idx=None, text_template='{metadata_str}\\n\\n{content}', metadata_template='{key}: {value}', metadata_seperator='\\n')]"
      ]
     },
     "execution_count": 5,
     "metadata": {},
     "output_type": "execute_result"
    }
   ],
   "source": [
    "documents"
   ]
  },
  {
   "cell_type": "code",
   "execution_count": 6,
   "metadata": {},
   "outputs": [
    {
     "name": "stdout",
     "output_type": "stream",
     "text": [
      "WARNING:llama_index.indices.service_context:chunk_size_limit is deprecated, please specify chunk_size instead\n",
      "chunk_size_limit is deprecated, please specify chunk_size instead\n"
     ]
    }
   ],
   "source": [
    "data_generator = DatasetGenerator.from_documents(documents)"
   ]
  },
  {
   "cell_type": "code",
   "execution_count": 23,
   "metadata": {},
   "outputs": [],
   "source": [
    "# eval_questions = data_generator.generate_questions_from_nodes()\n",
    "# run above for first time and below thereafter\n",
    "df1 = pd.read_csv(\"../output/cam-qa-dataset.csv\", index_col=0)\n",
    "eval_questions = df1[\"query\"]"
   ]
  },
  {
   "cell_type": "code",
   "execution_count": 24,
   "metadata": {},
   "outputs": [],
   "source": [
    "# gpt-4\n",
    "gpt4 = OpenAI(temperature=0, model=\"gpt-4\")\n",
    "service_context_gpt4 = ServiceContext.from_defaults(llm=gpt4)"
   ]
  },
  {
   "cell_type": "code",
   "execution_count": 25,
   "metadata": {},
   "outputs": [],
   "source": [
    "evaluator_gpt4 = RelevancyEvaluator(service_context=service_context_gpt4)"
   ]
  },
  {
   "cell_type": "code",
   "execution_count": 26,
   "metadata": {},
   "outputs": [],
   "source": [
    "# create vector index\n",
    "vector_index = VectorStoreIndex.from_documents(\n",
    "    documents, service_context=service_context_gpt4\n",
    ")"
   ]
  },
  {
   "cell_type": "code",
   "execution_count": 27,
   "metadata": {},
   "outputs": [],
   "source": [
    "# define jupyter display function\n",
    "def display_eval_df(query: str, response: Response, eval_result: str) -> None:\n",
    "    eval_df = pd.DataFrame(\n",
    "        {\n",
    "            \"Query\": query,\n",
    "            \"Response\": str(response),\n",
    "            \"Source\": response.source_nodes[0].node.get_content()[:1000] + \"...\",\n",
    "            \"Evaluation Result\": eval_result,\n",
    "        },\n",
    "        index=[0],\n",
    "    )\n",
    "    eval_df = eval_df.style.set_properties(\n",
    "        **{\n",
    "            \"inline-size\": \"600px\",\n",
    "            \"overflow-wrap\": \"break-word\",\n",
    "        },\n",
    "        subset=[\"Response\", \"Source\"]\n",
    "    )\n",
    "    display(eval_df)"
   ]
  },
  {
   "cell_type": "code",
   "execution_count": 28,
   "metadata": {},
   "outputs": [
    {
     "name": "stdout",
     "output_type": "stream",
     "text": [
      "INFO:openai:message='OpenAI API response' path=https://api.openai.com/v1/chat/completions processing_ms=539 request_id=e01a8a19913b2693889bbda11c11af74 response_code=200\n",
      "message='OpenAI API response' path=https://api.openai.com/v1/chat/completions processing_ms=539 request_id=e01a8a19913b2693889bbda11c11af74 response_code=200\n"
     ]
    }
   ],
   "source": [
    "query_engine = vector_index.as_query_engine()\n",
    "response_vector = query_engine.query(eval_questions[1])\n",
    "eval_result = evaluator_gpt4.evaluate_response(\n",
    "    query=eval_questions[1], response=response_vector\n",
    ")"
   ]
  },
  {
   "cell_type": "code",
   "execution_count": 29,
   "metadata": {},
   "outputs": [
    {
     "data": {
      "text/plain": [
       "'How does Christos plan to make a positive impact on society?'"
      ]
     },
     "execution_count": 29,
     "metadata": {},
     "output_type": "execute_result"
    }
   ],
   "source": [
    "eval_questions[1]"
   ]
  },
  {
   "cell_type": "code",
   "execution_count": 36,
   "metadata": {},
   "outputs": [
    {
     "data": {
      "text/plain": [
       "{'response': 'Christos plans to make a positive impact on society by accelerating technological advancement using Artificial Intelligence and Machine Learning tools to solve real-world problems. He is passionate about this and enjoys learning as much as he can on the topic. He is also looking for a role in an environment that encourages learning and growth, with a team that is passionate about what they do. Ideally, he wants to find a company that is focused on solving real-world problems with AI using technology and/or scientific research. His goal is to leverage his experience and strengths to add value to the team and gain a breadth and depth of industry experience in AI. This will enable him to contribute to a greater good and potentially build something of his own that solves a real-world problem through AI.',\n",
       " 'source_nodes': [NodeWithScore(node=TextNode(id_='677c415c-50a2-47fc-a11b-3489be31f7e4', embedding=None, metadata={'page_label': '1', 'file_name': 'Christos2023Q4Goals+Values.pdf'}, excluded_embed_metadata_keys=[], excluded_llm_metadata_keys=[], relationships={<NodeRelationship.SOURCE: '1'>: RelatedNodeInfo(node_id='01dfa701-d5c3-4eb2-8076-6df151f81403', node_type=None, metadata={'page_label': '1', 'file_name': 'Christos2023Q4Goals+Values.pdf'}, hash='2673340e6a6f92d2c5299e5ba02a3e5c41fea9fee830b5c439006fd30f9148d8')}, hash='2673340e6a6f92d2c5299e5ba02a3e5c41fea9fee830b5c439006fd30f9148d8', text=\"Christos'\\n2023\\nQ4\\nGoals\\nand\\nValues\\nWhat\\ndo\\nI\\nwant\\nto\\naccomplish?\\nI\\nwant\\nto\\nmake\\na\\npositive\\nimpact\\non\\nsociety\\nby\\naccelerating\\ntechnological\\nadvancement\\nusing\\nArtificial\\nIntelligence\\nand\\nMachine\\nLearning\\ntools\\nto\\nsolve\\nreal-world\\nproblems.\\nI\\nam\\nvery\\npassionate\\nabout\\nit\\nand\\nenjoying\\nlearning\\nas\\nmuch\\nas\\nI\\ncan\\non\\nthe\\ntopic.\\nI\\nlove\\nhelping\\npeople\\nand\\nlearning\\nabout\\ntheir\\nexperiences.\\nI\\nam\\nlooking\\nfor\\na\\nrole\\nin\\nan\\nenvironment\\nthat\\nencourages\\nlearning,\\ngrowth\\n(subject-matter\\nexpertise),\\na\\nteam\\nthat\\nis\\nalso\\npassionate\\nabout\\nwhat\\nthey\\ndo\\nand\\nideally\\non\\na\\nmission\\nto\\nmake\\na\\npositive\\nimpact\\nI\\nalign\\nwith.\\nI\\nwant\\nto\\nfind\\na\\ncompany\\nthat\\nis\\nfocused\\non\\nsolving\\nreal\\nworld\\nproblems\\nwith\\nAI\\nusing\\ntechnology\\nand/or\\nscientific\\nresearch.\\nIdeally\\nthis\\ncompany\\nmatches\\nmy\\nvalues,\\nenables\\nmy\\nworking\\nstyle\\nand\\nencourages\\nme\\nto\\ngrow\\nand\\nlearn.\\nI\\nwant\\nto\\nbe\\nin\\na\\nrole\\nthat\\nleverages\\nmy\\nexperience\\nand\\nstrengths\\nto\\nadd\\nvalue\\nto\\nthe\\nteam.\\nI\\nhope\\nthat\\nthe\\nrole\\nwill\\nalso\\nallow\\nme\\nto\\ngain\\na\\nbreadth\\nand\\ndepth\\nof\\nindustry\\nexperience\\nin\\nAI\\nsuch\\nthat\\nI\\ncan\\nlearn\\nand\\ncontribute\\nto\\na\\ngreater\\ngood\\nand\\none\\nday\\nbuild\\nsomething\\nof\\nmy\\nown\\nthat\\nsolves\\na\\nreal\\nworld\\nproblem\\nthrough\\nAI.\", start_char_idx=None, end_char_idx=None, text_template='{metadata_str}\\n\\n{content}', metadata_template='{key}: {value}', metadata_seperator='\\n'), score=0.8269663907132079),\n",
       "  NodeWithScore(node=TextNode(id_='00576ead-7f64-4415-989d-bf0800d9b17b', embedding=None, metadata={'page_label': '2', 'file_name': 'Christos2023Q4Goals+Values.pdf'}, excluded_embed_metadata_keys=[], excluded_llm_metadata_keys=[], relationships={<NodeRelationship.SOURCE: '1'>: RelatedNodeInfo(node_id='0c711527-9071-47c0-8acd-70cb1ba5d8a3', node_type=None, metadata={'page_label': '2', 'file_name': 'Christos2023Q4Goals+Values.pdf'}, hash='709362267194434c9b4f947d45e0c1c3b7da662451e48b065e0b2e10abcdab0b')}, hash='709362267194434c9b4f947d45e0c1c3b7da662451e48b065e0b2e10abcdab0b', text=\"W h a ta mIg o o da tp r o f e s s i o n a l l y ?\\nPositive:Iamtheluminoustorchbearer,guidingusthroughuncertaintytotherealmsofpromise.Whengivenachance,Iupliftteamspiritandpropelforwardmomentum.e.g.Ineveryrole,myunwaveringoptimismgalvanizedteamstoachievegreatness.\\nEmpathetic:Mykeensenseforothers'emotionsbridgesthegapbetweentechnicalmindsandthehumanspirit,seamlesslyconnectingdiversepersonalitiestowardsaunitedmission.e.g.AtCE,Istoodasanexusbetweensales,analytics,andclients,constantlywalkingintheirshoesandamplifyingunheardvoices.Similarly ,atCisco,Iresonatedwithcross-departmen talchalleng es,forgingconnections.\\nHumble:Iviewmyselfasanevolvingcanvas,alwaysopentofeedbackandseekingavenuesforenhancemen t.e.g.Inmanagementsessions,Iardentlyseekconstructivefeedbacktorefinemyapproach.\\nPassionate:WhenI'mimmersedinmypassions,myenthusiasmiscontagious.MyfervorextendstoAI,humanconnections,music,self-betterment,andtheartoflearning.e.g.InAIworkshops,myexcitementsparksacollaborative,energeticenvironment.\\nPhilanthropic:Withaprofoundloveforhumanity ,I'mdriventoupliftlives.Throughtechnology ,I'monarelentlessquesttoleavealastingsocietalimprint.\\nHonest:Ichampionhonestyastheultimatecompass.Throughtransparency,Ibelievewefindthebestalignmen tsandsolutions.\\nEagertolearn:Iamcuriousandhaveanappetiteforknowledge.\\nDedicated:Iamunwaveringinmycommitmen t,alwaysgivingmyutmosttoeveryendeavor.\\nIntegrity:Mymoralcompassissteadfast,ensuringIactwithhonorineverysituation.\\nResourceful:Ithriveinchalleng es,alwaysfindinginnovativesolutionstocomplexproblems.\", start_char_idx=None, end_char_idx=None, text_template='{metadata_str}\\n\\n{content}', metadata_template='{key}: {value}', metadata_seperator='\\n'), score=0.7906951443302371)],\n",
       " 'metadata': {'677c415c-50a2-47fc-a11b-3489be31f7e4': {'page_label': '1',\n",
       "   'file_name': 'Christos2023Q4Goals+Values.pdf'},\n",
       "  '00576ead-7f64-4415-989d-bf0800d9b17b': {'page_label': '2',\n",
       "   'file_name': 'Christos2023Q4Goals+Values.pdf'}}}"
      ]
     },
     "execution_count": 36,
     "metadata": {},
     "output_type": "execute_result"
    }
   ],
   "source": [
    "response_vector.__dict__"
   ]
  },
  {
   "cell_type": "code",
   "execution_count": 35,
   "metadata": {},
   "outputs": [
    {
     "data": {
      "text/plain": [
       "{'query': 'How does Christos plan to make a positive impact on society?',\n",
       " 'contexts': None,\n",
       " 'response': 'Christos plans to make a positive impact on society by accelerating technological advancement using Artificial Intelligence and Machine Learning tools to solve real-world problems. He is passionate about this and enjoys learning as much as he can on the topic. He is also looking for a role in an environment that encourages learning and growth, with a team that is passionate about what they do. Ideally, he wants to find a company that is focused on solving real-world problems with AI using technology and/or scientific research. His goal is to leverage his experience and strengths to add value to the team and gain a breadth and depth of industry experience in AI. This will enable him to contribute to a greater good and potentially build something of his own that solves a real-world problem through AI.',\n",
       " 'passing': True,\n",
       " 'feedback': 'YES',\n",
       " 'score': 1.0}"
      ]
     },
     "execution_count": 35,
     "metadata": {},
     "output_type": "execute_result"
    }
   ],
   "source": [
    "eval_result.__dict__"
   ]
  },
  {
   "cell_type": "code",
   "execution_count": 37,
   "metadata": {},
   "outputs": [
    {
     "data": {
      "text/html": [
       "<style type=\"text/css\">\n",
       "#T_bed06_row0_col1, #T_bed06_row0_col2 {\n",
       "  inline-size: 600px;\n",
       "  overflow-wrap: break-word;\n",
       "}\n",
       "</style>\n",
       "<table id=\"T_bed06\">\n",
       "  <thead>\n",
       "    <tr>\n",
       "      <th class=\"blank level0\" >&nbsp;</th>\n",
       "      <th id=\"T_bed06_level0_col0\" class=\"col_heading level0 col0\" >Query</th>\n",
       "      <th id=\"T_bed06_level0_col1\" class=\"col_heading level0 col1\" >Response</th>\n",
       "      <th id=\"T_bed06_level0_col2\" class=\"col_heading level0 col2\" >Source</th>\n",
       "      <th id=\"T_bed06_level0_col3\" class=\"col_heading level0 col3\" >Evaluation Result</th>\n",
       "    </tr>\n",
       "  </thead>\n",
       "  <tbody>\n",
       "    <tr>\n",
       "      <th id=\"T_bed06_level0_row0\" class=\"row_heading level0 row0\" >0</th>\n",
       "      <td id=\"T_bed06_row0_col0\" class=\"data row0 col0\" >How does Christos plan to make a positive impact on society?</td>\n",
       "      <td id=\"T_bed06_row0_col1\" class=\"data row0 col1\" >Christos plans to make a positive impact on society by accelerating technological advancement using Artificial Intelligence and Machine Learning tools to solve real-world problems. He is passionate about this and enjoys learning as much as he can on the topic. He is also looking for a role in an environment that encourages learning and growth, with a team that is passionate about what they do. Ideally, he wants to find a company that is focused on solving real-world problems with AI using technology and/or scientific research. His goal is to leverage his experience and strengths to add value to the team and gain a breadth and depth of industry experience in AI. This will enable him to contribute to a greater good and potentially build something of his own that solves a real-world problem through AI.</td>\n",
       "      <td id=\"T_bed06_row0_col2\" class=\"data row0 col2\" >Christos'\n",
       "2023\n",
       "Q4\n",
       "Goals\n",
       "and\n",
       "Values\n",
       "What\n",
       "do\n",
       "I\n",
       "want\n",
       "to\n",
       "accomplish?\n",
       "I\n",
       "want\n",
       "to\n",
       "make\n",
       "a\n",
       "positive\n",
       "impact\n",
       "on\n",
       "society\n",
       "by\n",
       "accelerating\n",
       "technological\n",
       "advancement\n",
       "using\n",
       "Artificial\n",
       "Intelligence\n",
       "and\n",
       "Machine\n",
       "Learning\n",
       "tools\n",
       "to\n",
       "solve\n",
       "real-world\n",
       "problems.\n",
       "I\n",
       "am\n",
       "very\n",
       "passionate\n",
       "about\n",
       "it\n",
       "and\n",
       "enjoying\n",
       "learning\n",
       "as\n",
       "much\n",
       "as\n",
       "I\n",
       "can\n",
       "on\n",
       "the\n",
       "topic.\n",
       "I\n",
       "love\n",
       "helping\n",
       "people\n",
       "and\n",
       "learning\n",
       "about\n",
       "their\n",
       "experiences.\n",
       "I\n",
       "am\n",
       "looking\n",
       "for\n",
       "a\n",
       "role\n",
       "in\n",
       "an\n",
       "environment\n",
       "that\n",
       "encourages\n",
       "learning,\n",
       "growth\n",
       "(subject-matter\n",
       "expertise),\n",
       "a\n",
       "team\n",
       "that\n",
       "is\n",
       "also\n",
       "passionate\n",
       "about\n",
       "what\n",
       "they\n",
       "do\n",
       "and\n",
       "ideally\n",
       "on\n",
       "a\n",
       "mission\n",
       "to\n",
       "make\n",
       "a\n",
       "positive\n",
       "impact\n",
       "I\n",
       "align\n",
       "with.\n",
       "I\n",
       "want\n",
       "to\n",
       "find\n",
       "a\n",
       "company\n",
       "that\n",
       "is\n",
       "focused\n",
       "on\n",
       "solving\n",
       "real\n",
       "world\n",
       "problems\n",
       "with\n",
       "AI\n",
       "using\n",
       "technology\n",
       "and/or\n",
       "scientific\n",
       "research.\n",
       "Ideally\n",
       "this\n",
       "company\n",
       "matches\n",
       "my\n",
       "values,\n",
       "enables\n",
       "my\n",
       "working\n",
       "style\n",
       "and\n",
       "encourages\n",
       "me\n",
       "to\n",
       "grow\n",
       "and\n",
       "learn.\n",
       "I\n",
       "want\n",
       "to\n",
       "be\n",
       "in\n",
       "a\n",
       "role\n",
       "that\n",
       "leverages\n",
       "my\n",
       "experience\n",
       "and\n",
       "strengths\n",
       "to\n",
       "add\n",
       "value\n",
       "to\n",
       "the\n",
       "team.\n",
       "I\n",
       "hope\n",
       "that\n",
       "the\n",
       "role\n",
       "will\n",
       "also\n",
       "allow\n",
       "me\n",
       "to\n",
       "gain\n",
       "a\n",
       "breadth\n",
       "and\n",
       "depth\n",
       "of\n",
       "industry\n",
       "ex...</td>\n",
       "      <td id=\"T_bed06_row0_col3\" class=\"data row0 col3\" >YES</td>\n",
       "    </tr>\n",
       "  </tbody>\n",
       "</table>\n"
      ],
      "text/plain": [
       "<pandas.io.formats.style.Styler at 0x7fcf09ae38e0>"
      ]
     },
     "metadata": {},
     "output_type": "display_data"
    }
   ],
   "source": [
    "display_eval_df(eval_questions[1], response_vector, eval_result.feedback)"
   ]
  },
  {
   "cell_type": "code",
   "execution_count": 56,
   "metadata": {},
   "outputs": [],
   "source": [
    "# define query, response, source, eval_result\n",
    "def get_source_with_query_response_eval(query: str, response: Response, eval_result: str) -> None:\n",
    "    return {\n",
    "        \"query\": query,\n",
    "        \"response\": str(response),\n",
    "        \"source\": f\"{response.source_nodes[0].node.get_content()[:1000]}...\",\n",
    "        \"eval_result\": eval_result,\n",
    "    }"
   ]
  },
  {
   "cell_type": "code",
   "execution_count": 57,
   "metadata": {},
   "outputs": [
    {
     "data": {
      "text/plain": [
       "{'query': 'How does Christos plan to make a positive impact on society?',\n",
       " 'response': 'Christos plans to make a positive impact on society by accelerating technological advancement using Artificial Intelligence and Machine Learning tools to solve real-world problems. He is passionate about this and enjoys learning as much as he can on the topic. He is also looking for a role in an environment that encourages learning and growth, with a team that is passionate about what they do. Ideally, he wants to find a company that is focused on solving real-world problems with AI using technology and/or scientific research. His goal is to leverage his experience and strengths to add value to the team and gain a breadth and depth of industry experience in AI. This will enable him to contribute to a greater good and potentially build something of his own that solves a real-world problem through AI.',\n",
       " 'source': \"Christos'\\n2023\\nQ4\\nGoals\\nand\\nValues\\nWhat\\ndo\\nI\\nwant\\nto\\naccomplish?\\nI\\nwant\\nto\\nmake\\na\\npositive\\nimpact\\non\\nsociety\\nby\\naccelerating\\ntechnological\\nadvancement\\nusing\\nArtificial\\nIntelligence\\nand\\nMachine\\nLearning\\ntools\\nto\\nsolve\\nreal-world\\nproblems.\\nI\\nam\\nvery\\npassionate\\nabout\\nit\\nand\\nenjoying\\nlearning\\nas\\nmuch\\nas\\nI\\ncan\\non\\nthe\\ntopic.\\nI\\nlove\\nhelping\\npeople\\nand\\nlearning\\nabout\\ntheir\\nexperiences.\\nI\\nam\\nlooking\\nfor\\na\\nrole\\nin\\nan\\nenvironment\\nthat\\nencourages\\nlearning,\\ngrowth\\n(subject-matter\\nexpertise),\\na\\nteam\\nthat\\nis\\nalso\\npassionate\\nabout\\nwhat\\nthey\\ndo\\nand\\nideally\\non\\na\\nmission\\nto\\nmake\\na\\npositive\\nimpact\\nI\\nalign\\nwith.\\nI\\nwant\\nto\\nfind\\na\\ncompany\\nthat\\nis\\nfocused\\non\\nsolving\\nreal\\nworld\\nproblems\\nwith\\nAI\\nusing\\ntechnology\\nand/or\\nscientific\\nresearch.\\nIdeally\\nthis\\ncompany\\nmatches\\nmy\\nvalues,\\nenables\\nmy\\nworking\\nstyle\\nand\\nencourages\\nme\\nto\\ngrow\\nand\\nlearn.\\nI\\nwant\\nto\\nbe\\nin\\na\\nrole\\nthat\\nleverages\\nmy\\nexperience\\nand\\nstrengths\\nto\\nadd\\nvalue\\nto\\nthe\\nteam.\\nI\\nhope\\nthat\\nthe\\nrole\\nwill\\nalso\\nallow\\nme\\nto\\ngain\\na\\nbreadth\\nand\\ndepth\\nof\\nindustry\\nex...\",\n",
       " 'eval_result': 'YES'}"
      ]
     },
     "execution_count": 57,
     "metadata": {},
     "output_type": "execute_result"
    }
   ],
   "source": [
    "get_source_with_query_response_eval(eval_questions[1], response_vector, eval_result.feedback)"
   ]
  },
  {
   "cell_type": "code",
   "execution_count": null,
   "metadata": {},
   "outputs": [],
   "source": [
    "df = None\n",
    "for i in range(len(eval_questions)):\n",
    "    query_i = eval_questions[i]\n",
    "    response_vector_i = query_engine.query(eval_questions[i])\n",
    "    eval_result_i = evaluator_gpt4.evaluate_response(query=query_i, response=response_vector_i)\n",
    "    tmp_df = pd.DataFrame([get_source_with_query_response_eval(query_i, response_vector_i, eval_result_i.feedback)])\n",
    "    df = tmp_df if df is None else pd.concat([df,tmp_df], ignore_index=True)"
   ]
  },
  {
   "cell_type": "code",
   "execution_count": 73,
   "metadata": {},
   "outputs": [],
   "source": [
    "df.to_csv(\"../output/cam-qa-dataset.csv\", escapechar='\\\\')"
   ]
  },
  {
   "cell_type": "code",
   "execution_count": 77,
   "metadata": {},
   "outputs": [
    {
     "data": {
      "text/html": [
       "<div>\n",
       "<style scoped>\n",
       "    .dataframe tbody tr th:only-of-type {\n",
       "        vertical-align: middle;\n",
       "    }\n",
       "\n",
       "    .dataframe tbody tr th {\n",
       "        vertical-align: top;\n",
       "    }\n",
       "\n",
       "    .dataframe thead th {\n",
       "        text-align: right;\n",
       "    }\n",
       "</style>\n",
       "<table border=\"1\" class=\"dataframe\">\n",
       "  <thead>\n",
       "    <tr style=\"text-align: right;\">\n",
       "      <th></th>\n",
       "      <th>query</th>\n",
       "      <th>response</th>\n",
       "      <th>source</th>\n",
       "      <th>eval_result</th>\n",
       "    </tr>\n",
       "  </thead>\n",
       "  <tbody>\n",
       "    <tr>\n",
       "      <th>0</th>\n",
       "      <td>What is Christos' main goal for the fourth qua...</td>\n",
       "      <td>Christos' main goal for the fourth quarter of ...</td>\n",
       "      <td>Christos'\\n2023\\nQ4\\nGoals\\nand\\nValues\\nWhat\\...</td>\n",
       "      <td>YES</td>\n",
       "    </tr>\n",
       "    <tr>\n",
       "      <th>1</th>\n",
       "      <td>How does Christos plan to make a positive impa...</td>\n",
       "      <td>Christos plans to make a positive impact on so...</td>\n",
       "      <td>Christos'\\n2023\\nQ4\\nGoals\\nand\\nValues\\nWhat\\...</td>\n",
       "      <td>YES</td>\n",
       "    </tr>\n",
       "    <tr>\n",
       "      <th>2</th>\n",
       "      <td>What is Christos passionate about and enjoying...</td>\n",
       "      <td>Christos is passionate about making a positive...</td>\n",
       "      <td>Christos'\\n2023\\nQ4\\nGoals\\nand\\nValues\\nWhat\\...</td>\n",
       "      <td>YES</td>\n",
       "    </tr>\n",
       "    <tr>\n",
       "      <th>3</th>\n",
       "      <td>What kind of environment is Christos looking f...</td>\n",
       "      <td>Christos is seeking a role in an environment t...</td>\n",
       "      <td>Christos'\\n2023\\nQ4\\nGoals\\nand\\nValues\\nWhat\\...</td>\n",
       "      <td>YES</td>\n",
       "    </tr>\n",
       "    <tr>\n",
       "      <th>4</th>\n",
       "      <td>What type of company is Christos hoping to wor...</td>\n",
       "      <td>Christos is hoping to work for a company that ...</td>\n",
       "      <td>Christos'\\n2023\\nQ4\\nGoals\\nand\\nValues\\nWhat\\...</td>\n",
       "      <td>YES</td>\n",
       "    </tr>\n",
       "  </tbody>\n",
       "</table>\n",
       "</div>"
      ],
      "text/plain": [
       "                                               query  \\\n",
       "0  What is Christos' main goal for the fourth qua...   \n",
       "1  How does Christos plan to make a positive impa...   \n",
       "2  What is Christos passionate about and enjoying...   \n",
       "3  What kind of environment is Christos looking f...   \n",
       "4  What type of company is Christos hoping to wor...   \n",
       "\n",
       "                                            response  \\\n",
       "0  Christos' main goal for the fourth quarter of ...   \n",
       "1  Christos plans to make a positive impact on so...   \n",
       "2  Christos is passionate about making a positive...   \n",
       "3  Christos is seeking a role in an environment t...   \n",
       "4  Christos is hoping to work for a company that ...   \n",
       "\n",
       "                                              source eval_result  \n",
       "0  Christos'\\n2023\\nQ4\\nGoals\\nand\\nValues\\nWhat\\...         YES  \n",
       "1  Christos'\\n2023\\nQ4\\nGoals\\nand\\nValues\\nWhat\\...         YES  \n",
       "2  Christos'\\n2023\\nQ4\\nGoals\\nand\\nValues\\nWhat\\...         YES  \n",
       "3  Christos'\\n2023\\nQ4\\nGoals\\nand\\nValues\\nWhat\\...         YES  \n",
       "4  Christos'\\n2023\\nQ4\\nGoals\\nand\\nValues\\nWhat\\...         YES  "
      ]
     },
     "execution_count": 77,
     "metadata": {},
     "output_type": "execute_result"
    }
   ],
   "source": [
    "pd.read_csv(\"../output/cam-qa-dataset.csv\", index_col=0).head()"
   ]
  },
  {
   "cell_type": "code",
   "execution_count": 78,
   "metadata": {},
   "outputs": [],
   "source": [
    "# AI Engineer @ Cohere\n",
    "sample_job_description = \"\"\"\n",
    "AI Engineer\n",
    "SAN FRANCISCO /TECH – FORWARD DEPLOYED ENGINEERING /FULL-TIME/ HYBRID\n",
    "Who are we?\n",
    "We’re a team of engineers, thinkers, and champions whose aim is to give technology language. Every day our team is breaking new ground, as we build transformational AI technology and products for enterprise and developers that wish to harness the power of Large Language Models.\n",
    "\n",
    "We're driven by ambition, as we firmly believe that our technology has the potential to revolutionise the way industries engage with natural language. Our strong technical foundation speaks for itself, with our team composed of world-class experts who have collectively accumulated hundreds of thousands of citations in academia.\n",
    "\n",
    "The Cohere team is a collective of college dropouts, PhDs, alumni of big tech and scrappy start-ups, new grads and career pivots, who believe a diverse team is the key to a safer, more responsible technology. At Cohere, work isn’t the opposite of play, as we build the future of language AI with team members on almost every continent in the world, working from high rises, cabins, tour buses, and dog-friendly offices.\n",
    "\n",
    "There’s no better time to herald the next step with us as we shape the future of Generative AI.\n",
    "\n",
    "Why this role?\n",
    "\n",
    "As an AI Engineer (a Member of Technical Staff role on our Forward Deployed team) you will work directly with customers to quickly understand their greatest problems and design and implement solutions using Large Language Models.\n",
    "\n",
    "You’ll apply your problem-solving ability, creativity, and technical skills to close the last-mile gap in Enterprise AI adoption. You’ll be able to deliver products like early startup CTOs/CEOs do and disrupt some of the most important industries and institutions globally!\n",
    "\n",
    "In this role, you will:\n",
    "- Own and build large new areas within our product.\n",
    "- Work across backend, frontend, and customize Large Language Models.\n",
    "- Experiment at a high velocity and level of quality to engage our customers and eventually deliver solutions that exceed their expectations.\n",
    "- Work across the entire product lifecycle from conceptualization through production.\n",
    "\n",
    "This career opportunity may be a good match for you if you have:\n",
    "- 3+ years of model training, deployment, and maintenance in a production environment.\n",
    "- Strong skills in NLP and deep learning.\n",
    "- Experience scaling products at hyper-growth startup.\n",
    "- Strong written and verbal communication skills.\n",
    "- Ability and interest to travel up to 25%, as needed to client sites, but flexible based on personal preferences.\n",
    "\n",
    "Nice to have skills/experiences:\n",
    "- Experience improving LLM performance for custom domains via fine tuning or RLHF.\n",
    "- Experience in Information Retrieval systems for document question answering.\n",
    "- Experience in day-to-day NLP for industry using Python and related toolchains (SpaCy, HuggingFace, NLTK, etc.).\n",
    "- Published research in areas of machine learning at major conferences and/or journals.\n",
    "If some of the above doesn’t line up perfectly with your experience, we still encourage you to apply! If you consider yourself a thoughtful worker, a lifelong learner, and a kind and playful team member, Cohere is the place for you.\n",
    "\n",
    "We value and celebrate diversity and strive to create an inclusive work environment for all. We welcome applicants of all kinds and are committed to providing an equal opportunity process. Cohere provides accessibility accommodations during the recruitment process. Should you require any accommodation, please let us know and we will work with you to meet your needs.\n",
    "\n",
    "Our Perks:\n",
    "🤝 An open and inclusive culture and work environment \n",
    "🧑‍💻 Work closely with a team on the cutting edge of AI research \n",
    "🍽 Free daily lunch \n",
    "🦷 Full health and dental benefits, including a separate budget to take care of your mental health \n",
    "🐣 100% Parental Leave top-up for 6 months for employees based in Canada, the US, and the UK\n",
    "🎨 Personal enrichment benefits towards arts and culture, fitness and well-being, quality time, and workspace improvement\n",
    "🏙 Remote-flexible, offices in Toronto, Palo Alto, San-Francisco and London and co-working stipend\n",
    "✈️ 6 weeks of vacation\"\n",
    "\"\"\""
   ]
  },
  {
   "cell_type": "code",
   "execution_count": 82,
   "metadata": {},
   "outputs": [],
   "source": [
    "sample_response = query_engine.query(\n",
    "    f\"\"\"\n",
    "    [QUERY]\n",
    "    Which areas from the provided Job Description below does the candidate match? Give examples of matches and misses with scores and explaination.\n",
    "    [CONTEXT]\n",
    "    {sample_job_description}\n",
    "    \"\"\")"
   ]
  },
  {
   "cell_type": "code",
   "execution_count": 83,
   "metadata": {},
   "outputs": [
    {
     "name": "stdout",
     "output_type": "stream",
     "text": [
      "The candidate, Christos Magganas, matches several areas of the job description for the AI Engineer role at Cohere. \n",
      "\n",
      "Matches:\n",
      "1. Experience with Large Language Models (LLM): Christos has extensive experience with LLMs, as evidenced by his work at Learvo and AI Makerspace where he utilized tools like LangChain and LlamaIndex for AI applications. Score: 9/10\n",
      "2. Generative AI: Christos has worked on Generative AI applications at Learvo and AI Makerspace, aligning with the company's focus on shaping the future of Generative AI. Score: 8/10\n",
      "3. Strong skills in NLP and deep learning: While the resume does not explicitly mention NLP or deep learning, his experience with LLMs and AI/ML suggests a strong background in these areas. Score: 7/10\n",
      "4. Strong written and verbal communication skills: Christos' ability to lead cross-functional teams and his emphasis on empathy, humility, and integrity suggest strong communication skills. Score: 8/10\n",
      "5. Experience scaling products at hyper-growth startup: Christos has experience working at startups like Learvo and Kaleidoscope Data, where he played key roles in AI/ML projects. Score: 7/10\n",
      "\n",
      "Misses:\n",
      "1. 3+ years of model training, deployment, and maintenance in a production environment: While Christos has experience in AI/ML and LLM applications, it's not clear if he has 3+ years of experience specifically in model training, deployment, and maintenance. Score: 5/10\n",
      "2. Ability and interest to travel up to 25%: The resume does not provide information on Christos' willingness or ability to travel. Score: 0/10\n",
      "3. Experience improving LLM performance for custom domains via fine tuning or RLHF: The resume does not mention any experience with fine-tuning LLMs or using RLHF. Score: 0/10\n",
      "4. Experience in Information Retrieval systems for document question answering: While Christos has experience with LLMs and AI/ML, there's no specific mention of experience with Information Retrieval systems. Score: 0/10\n",
      "5. Published research in areas of machine learning at major conferences and/or journals: The resume does not mention any published research. Score: 0/10\n",
      "\n",
      "Overall, Christos seems to be a strong candidate for the AI Engineer role at Cohere, particularly in terms of his experience with LLMs and Generative AI. However, there are some areas of the job description that his resume does not clearly address.\n"
     ]
    }
   ],
   "source": [
    "print(sample_response)"
   ]
  },
  {
   "cell_type": "markdown",
   "metadata": {},
   "source": [
    "This process both shows compatibility, and gaps in portfolio whether those are areas of improvement or a missing project that you actually have done that can be updated."
   ]
  },
  {
   "cell_type": "markdown",
   "metadata": {},
   "source": []
  }
 ],
 "metadata": {
  "kernelspec": {
   "display_name": "aim-llm-obs",
   "language": "python",
   "name": "python3"
  },
  "language_info": {
   "codemirror_mode": {
    "name": "ipython",
    "version": 3
   },
   "file_extension": ".py",
   "mimetype": "text/x-python",
   "name": "python",
   "nbconvert_exporter": "python",
   "pygments_lexer": "ipython3",
   "version": "3.10.13"
  },
  "orig_nbformat": 4
 },
 "nbformat": 4,
 "nbformat_minor": 2
}
