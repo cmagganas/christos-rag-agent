{
 "cells": [
  {
   "cell_type": "markdown",
   "metadata": {},
   "source": [
    "# QuestionGeneration [🔗](https://gpt-index.readthedocs.io/en/latest/examples/evaluation/QuestionGeneration.html)\n",
    "This notebook walks through the process of generating a list of questions that could be asked about your data. This is useful for setting up an evaluation pipeline using the FaithfulnessEvaluator and RelevancyEvaluator evaluation tools."
   ]
  },
  {
   "cell_type": "code",
   "execution_count": 12,
   "metadata": {},
   "outputs": [],
   "source": [
    "import nest_asyncio\n",
    "nest_asyncio.apply()"
   ]
  },
  {
   "cell_type": "code",
   "execution_count": 2,
   "metadata": {},
   "outputs": [],
   "source": [
    "import logging\n",
    "import sys\n",
    "import pandas as pd\n",
    "\n",
    "logging.basicConfig(stream=sys.stdout, level=logging.INFO)\n",
    "logging.getLogger().addHandler(logging.StreamHandler(stream=sys.stdout))"
   ]
  },
  {
   "cell_type": "code",
   "execution_count": 3,
   "metadata": {},
   "outputs": [],
   "source": [
    "from llama_index.evaluation import DatasetGenerator, RelevancyEvaluator\n",
    "from llama_index import (\n",
    "    SimpleDirectoryReader,\n",
    "    VectorStoreIndex,\n",
    "    ServiceContext,\n",
    "    LLMPredictor,\n",
    "    Response,\n",
    ")\n",
    "from llama_index.llms import OpenAI"
   ]
  },
  {
   "cell_type": "code",
   "execution_count": 7,
   "metadata": {},
   "outputs": [],
   "source": [
    "reader = SimpleDirectoryReader(\"../data/\") \n",
    "documents = reader.load_data()"
   ]
  },
  {
   "cell_type": "code",
   "execution_count": 8,
   "metadata": {},
   "outputs": [
    {
     "data": {
      "text/plain": [
       "[Document(id_='d5186211-02cb-41eb-889d-59c9b2b2beb3', embedding=None, metadata={'page_label': '1', 'file_name': 'Christos2023Q4Goals+Values.pdf'}, excluded_embed_metadata_keys=[], excluded_llm_metadata_keys=[], relationships={}, hash='2673340e6a6f92d2c5299e5ba02a3e5c41fea9fee830b5c439006fd30f9148d8', text=\"Christos'\\n2023\\nQ4\\nGoals\\nand\\nValues\\nWhat\\ndo\\nI\\nwant\\nto\\naccomplish?\\nI\\nwant\\nto\\nmake\\na\\npositive\\nimpact\\non\\nsociety\\nby\\naccelerating\\ntechnological\\nadvancement\\nusing\\nArtificial\\nIntelligence\\nand\\nMachine\\nLearning\\ntools\\nto\\nsolve\\nreal-world\\nproblems.\\nI\\nam\\nvery\\npassionate\\nabout\\nit\\nand\\nenjoying\\nlearning\\nas\\nmuch\\nas\\nI\\ncan\\non\\nthe\\ntopic.\\nI\\nlove\\nhelping\\npeople\\nand\\nlearning\\nabout\\ntheir\\nexperiences.\\nI\\nam\\nlooking\\nfor\\na\\nrole\\nin\\nan\\nenvironment\\nthat\\nencourages\\nlearning,\\ngrowth\\n(subject-matter\\nexpertise),\\na\\nteam\\nthat\\nis\\nalso\\npassionate\\nabout\\nwhat\\nthey\\ndo\\nand\\nideally\\non\\na\\nmission\\nto\\nmake\\na\\npositive\\nimpact\\nI\\nalign\\nwith.\\nI\\nwant\\nto\\nfind\\na\\ncompany\\nthat\\nis\\nfocused\\non\\nsolving\\nreal\\nworld\\nproblems\\nwith\\nAI\\nusing\\ntechnology\\nand/or\\nscientific\\nresearch.\\nIdeally\\nthis\\ncompany\\nmatches\\nmy\\nvalues,\\nenables\\nmy\\nworking\\nstyle\\nand\\nencourages\\nme\\nto\\ngrow\\nand\\nlearn.\\nI\\nwant\\nto\\nbe\\nin\\na\\nrole\\nthat\\nleverages\\nmy\\nexperience\\nand\\nstrengths\\nto\\nadd\\nvalue\\nto\\nthe\\nteam.\\nI\\nhope\\nthat\\nthe\\nrole\\nwill\\nalso\\nallow\\nme\\nto\\ngain\\na\\nbreadth\\nand\\ndepth\\nof\\nindustry\\nexperience\\nin\\nAI\\nsuch\\nthat\\nI\\ncan\\nlearn\\nand\\ncontribute\\nto\\na\\ngreater\\ngood\\nand\\none\\nday\\nbuild\\nsomething\\nof\\nmy\\nown\\nthat\\nsolves\\na\\nreal\\nworld\\nproblem\\nthrough\\nAI.\", start_char_idx=None, end_char_idx=None, text_template='{metadata_str}\\n\\n{content}', metadata_template='{key}: {value}', metadata_seperator='\\n'),\n",
       " Document(id_='19b37d56-021e-4780-8f69-3abcb35021f2', embedding=None, metadata={'page_label': '2', 'file_name': 'Christos2023Q4Goals+Values.pdf'}, excluded_embed_metadata_keys=[], excluded_llm_metadata_keys=[], relationships={}, hash='709362267194434c9b4f947d45e0c1c3b7da662451e48b065e0b2e10abcdab0b', text=\"W h a ta mIg o o da tp r o f e s s i o n a l l y ?\\nPositive:Iamtheluminoustorchbearer,guidingusthroughuncertaintytotherealmsofpromise.Whengivenachance,Iupliftteamspiritandpropelforwardmomentum.e.g.Ineveryrole,myunwaveringoptimismgalvanizedteamstoachievegreatness.\\nEmpathetic:Mykeensenseforothers'emotionsbridgesthegapbetweentechnicalmindsandthehumanspirit,seamlesslyconnectingdiversepersonalitiestowardsaunitedmission.e.g.AtCE,Istoodasanexusbetweensales,analytics,andclients,constantlywalkingintheirshoesandamplifyingunheardvoices.Similarly ,atCisco,Iresonatedwithcross-departmen talchalleng es,forgingconnections.\\nHumble:Iviewmyselfasanevolvingcanvas,alwaysopentofeedbackandseekingavenuesforenhancemen t.e.g.Inmanagementsessions,Iardentlyseekconstructivefeedbacktorefinemyapproach.\\nPassionate:WhenI'mimmersedinmypassions,myenthusiasmiscontagious.MyfervorextendstoAI,humanconnections,music,self-betterment,andtheartoflearning.e.g.InAIworkshops,myexcitementsparksacollaborative,energeticenvironment.\\nPhilanthropic:Withaprofoundloveforhumanity ,I'mdriventoupliftlives.Throughtechnology ,I'monarelentlessquesttoleavealastingsocietalimprint.\\nHonest:Ichampionhonestyastheultimatecompass.Throughtransparency,Ibelievewefindthebestalignmen tsandsolutions.\\nEagertolearn:Iamcuriousandhaveanappetiteforknowledge.\\nDedicated:Iamunwaveringinmycommitmen t,alwaysgivingmyutmosttoeveryendeavor.\\nIntegrity:Mymoralcompassissteadfast,ensuringIactwithhonorineverysituation.\\nResourceful:Ithriveinchalleng es,alwaysfindinginnovativesolutionstocomplexproblems.\", start_char_idx=None, end_char_idx=None, text_template='{metadata_str}\\n\\n{content}', metadata_template='{key}: {value}', metadata_seperator='\\n'),\n",
       " Document(id_='80336ac9-1bee-4ffc-8ae8-073556a2cf9d', embedding=None, metadata={'page_label': '3', 'file_name': 'Christos2023Q4Goals+Values.pdf'}, excluded_embed_metadata_keys=[], excluded_llm_metadata_keys=[], relationships={}, hash='c2ba8effa4831890bfa06e9d873cca4a788217135ae655cdca629a4266283736', text=\"W o r k s t y l e\\nProjectFocus:MymostproductiveweekscomefromsettingupafocusblockforafewhoursinthemorningwhereIcanspendfocusedtimedoingdeepworkononetask/project(e.g.writingcode)\\nLearningandSelfImprovement:IhavebeenonajourneyofselfimprovementandenjoylearningabouttopicsIamcuriousabout.IspentthebetterpartofthelastfewyearstakingcoursesonAI/ML,listeningtopodcastsonthesametopicaswellasonthetopicofimprovedhealthandlifestyle(e.g.HubermanLab,whichisfocusedonapplyingscientificresearchtoeverydaybehaviors).Ithinkhavingsomededicatedtimespenttowardslearninganewskillorimprovingoneiscriticalandleadstocompoundingbenefits.\\nCommunitydiscussion:Ithoroughlyenjoymeetingwithpeopleandlearningaboutwhattheydo,why,andwhatintereststhem.Ifindpeoplefascinating,especiallywhenwesharesomemutualinterestsandarebothtryingtosolvesimilarproblems.\\nMyuniques trengthliesinbridgingthegapbe tweenengineeringandbusinessminds.B yemplo yingheigh t enedawarenessanddeep-root edempathe ticc ompassion,Ic angraspvariedperspectives,aligningt eamsbasedonsharedvalues.Thisabilityisin valuablebec auseitf os t ersc ollaborationanddrivesinno vation,ensuringthatt echnic alsolutionsalignseamlesslywithbusinessobjectives.Suchs ynergyisrareandessen tialint oday'sc omple xbusinesslandsc ape.\", start_char_idx=None, end_char_idx=None, text_template='{metadata_str}\\n\\n{content}', metadata_template='{key}: {value}', metadata_seperator='\\n'),\n",
       " Document(id_='c7a1c444-991d-4b78-90fe-f981cd5d2f0c', embedding=None, metadata={'page_label': '4', 'file_name': 'Christos2023Q4Goals+Values.pdf'}, excluded_embed_metadata_keys=[], excluded_llm_metadata_keys=[], relationships={}, hash='9d52aff71c316ca365198e5206b45dee2a8db903aee7510da7b1d62bcb25e385', text='Christos:\\nMachine\\nLearning\\nEngineer\\n&\\nLLM\\nAficionado\\nSummary\\n:\\nDriven\\nby\\na\\nprofound\\npassion\\nfor\\nAI\\nand\\nML,\\nI\\nam\\nkeen\\nto\\nharness\\ntools\\nlike\\nLangChain\\nand\\nLlamaIndex\\nto\\nadvance\\nGenAI\\napplications.\\nMy\\nexperience\\nwith\\nleading\\ncross-functional\\nteams\\nand\\nmy\\nunique\\nblend\\nof\\nprofessional\\nskills\\n-\\nfrom\\nempathy\\nand\\nhumility\\nto\\nintegrity\\nand\\ndedication\\n-\\nmake\\nme\\nan\\ninvaluable\\nasset\\nto\\nteams\\naiming\\nto\\nmake\\na\\nworld\\nof\\ndifference.\\nRecent\\nExperience\\nHighlights\\n:\\nLearvo\\n·\\nAI/ML\\nEngineer\\n·\\nSan\\nFrancisco\\nBay\\nArea\\nAug.\\n2023\\n-\\nCurrent\\n●\\nCollaborating\\ntoward\\ndevelopment\\nof\\nan\\nAI\\nagent\\ndedicated\\nto\\nassisting\\nstudents\\nin\\nsubjects\\nlike\\nmedicine\\nby\\nutilizing\\nmnemonic\\ndevices.\\n●\\nEmploying\\nadvanced\\nLLM\\ntools,\\nincluding\\nLangChain\\nand\\nOpenAI,\\nin\\nan\\nexploratory\\ndevelopment\\nframework\\nto\\nensure\\nmnemonic\\nlearning\\ntools\\nare\\neffective.\\nAI\\nMakerspace\\nAug.\\n2023\\n-\\nSep.\\n2023\\n●\\nSpecialized\\nin\\nutilizing\\nLLMs\\nfor\\nrevolutionary\\nproduct\\ndevelopment,\\nwith\\na\\nparticular\\ninclination\\ntowards\\nLangChain\\nand\\nLlamaIndex\\nframeworks.\\n●\\nPlayed\\na\\nkey\\nrole\\nin\\nopen-source\\nLLM\\nprojects,\\ncontributing\\nto\\nthe\\ndevelopment\\nof\\npioneering\\nGenerative\\nAI\\napplications.\\nKaleidoscope\\nData\\n·\\nAI/ML\\nEngineer\\n·\\nSan\\nFrancisco\\nBay\\nArea\\nApr.\\n2023\\n-\\nAug.\\n2023\\n●\\nSpearheaded\\nresearch,\\nusing\\nvarious\\nLLM\\nand\\nembedding-based\\nstrategies\\nfor\\na\\npivotal\\nclassification\\ntask.\\n●\\nSkillfully\\nmanipulated\\ndata\\nusing\\nPython\\nand\\nSQL,\\nrelying\\non\\nOpenAI\\nAPI\\nfor\\noptimized\\ndata\\nprocessing.\\nFourthBrain\\nDec.\\n2022\\n-\\nMay\\n2023\\n●\\nImmersed\\nin\\nData-centric\\nAI,\\nML\\nModeling,\\nAI\\nApplications,\\nand\\nMLOps.\\n●\\nExplored\\nthe\\nrealms\\nof\\nGenerative\\nAI,\\nwith\\nhands-on\\nexperience\\nin\\ndeploying\\nLLM\\napplications,\\nteaching\\nnew\\nstructures\\nto\\nLLMs,\\nand\\ndeveloping\\nresponsive\\nQ&A\\ntools.', start_char_idx=None, end_char_idx=None, text_template='{metadata_str}\\n\\n{content}', metadata_template='{key}: {value}', metadata_seperator='\\n'),\n",
       " Document(id_='cf175e0a-9c80-4dbb-aabd-86603f9d9ec3', embedding=None, metadata={'page_label': '5', 'file_name': 'Christos2023Q4Goals+Values.pdf'}, excluded_embed_metadata_keys=[], excluded_llm_metadata_keys=[], relationships={}, hash='785211880a47a3dc8385edd5df46c538cbad353a80dfc1399e4e9d0ffa5da662', text='S k i l l sA p p e n d i x\\nPROFESSIONALISM:ProjectManagement,End-to-EndDevelopmen t,ResourceManagement,ConflictResolution,CriticalThinking ,StoryTelling,Leadership,Communic ation,Collabor ation,Creativity\\nPROGRAMMING:Python,SQL,R,HTML,Git,Bash,Unix,Excel,VisualBasic,NumPy,Pandas,Matplotlib,Seaborn,Scipy,Scikit-learn,MLLib,PySpark(Koalas),Jupyter,FastAPI,Flask,Django,Altair,Streamlit\\nMACHINELEARNING:MLOps,MLEngineering ,DataWrangling/Scraping,DataEngineering ,EDA,DataAnalysis,StatisticalInference,DataVisualization,CI/CD,ContinuousMonitoring\\nPLATFORMS:GCP(BigQuer y,DataStudio,Dataflow,AutoML,VertexAI,Datalab,Dataprep),AWS(S3,EC2,EMR,ElasticBeanstalk,SageMaker),Databricks,Airflow,Docker,Kubernetes,Bootstrap,Tableau\\nARTIFICIALINTELLIGENCE:NLP(LDA,BoW,TF-IDF,word2vec,seq2seq),Comput erVision(Classific ation,ObjectDetection,SemanticSegmen tation),AudioSignalProcessing(librosa,torchaudio ,wav2vec)\\nDEEPLEARNING:TensorFlo w(Lite,Keras),PyTorch(fast.ai,Lightning),MLPs,CNNs,RNNs(GRU/LS TM),GANs(cGAN/W GAN/Cy cleGAN),Transformers(BERT,DistilBERT)\\nALGORITHMS:LinearRegression,LogisticRegression,SVMs,RandomForests,XGBoost,K-means,DBSCAN,PCA', start_char_idx=None, end_char_idx=None, text_template='{metadata_str}\\n\\n{content}', metadata_template='{key}: {value}', metadata_seperator='\\n'),\n",
       " Document(id_='d79888e6-d7d2-4358-80dd-af7353a1df19', embedding=None, metadata={'page_label': '1', 'file_name': 'ChristosResume.pdf'}, excluded_embed_metadata_keys=[], excluded_llm_metadata_keys=[], relationships={}, hash='e627af1ac6007436c38a1012cbee585f85574f08bcf654585de990093f3636fd', text=\"CHRIST OS\\xa0 MA GGANAS\\n cmagganas@gmail.com  www .christ os.app  christ os-magganas/  cmagganas/ \\uf0e0 \\uf0ac \\uf0e1 \\uf09b\\nSUMMAR Y\\nMachine Learning Engineer with experience in developing ML models to solve real-world problems. Proven ability to lead cross-functional teams and manage ML projects from ideation to deployment. Strong intangibles including empathy, humility, integrity, positivity and\\ncuriosity, making me an excellent collaborator and communicator. Seeking to leverage my abilities to make a positive impact in an AI organization.\\nE XPERIENCE\\nLear v o · F o u n di n g  AI  E n g i n e e r · S a n  F r a n c i s c o  B a y  Ar e a S e p .  2023   -  C u r r e n t\\nLed the design of Learvo's mnemonic solutions using LangChain and LlamaIndex as an LLM application architect.\\nAdvanced Generative AI at Learvo, optimized learning tools, and contributed to open-source LLM projects as an AI/ML/LLM Engineer.\\nKaleidoscope Data  · AI / M L E n g i n e e r · S a n  F r a n c i s c o  B a y  Ar e a Ap r .  2023   -  Au g .  2023\\nOperationalized a Reddit Bot utilizing Retrieval-Augmented Generation via LangChain to create e\\x00ective summaries of subreddit content, in collaboration with the moderator team of an interested subreddit.\\nAnnotated a document database using OpenAI, and conducted statistical analysis to understand relationships between documents over time.\\nAssisted with executing research and writing a research paper utilizing several LLM and embedding-based approaches for a classi\\x00cation task.\\nWrote Python and SQL code to manipulate and process data, utilized OpenAI API for data processing, and conducted statistical and visual analysis of datasets using Data Science packages, Excel, etc.\\nCisco  · D a t a  S c i e n t i s t  ( I n t e r n ) · S a n  J o s e , C A M a y  2022   -  S e p .  2022\\nImplemented\\xa0ML Ops\\xa0industry best-practices to identify issues and streamline ML work\\x00ow, leading to end-to-end\\xa0observability.\\nCollaborated across teams (Data Engineering/Science/Ops) to design and implement a metric framework to streamline work\\x00ow.\\nLed the integration of MLOps Continuous Monitoring on CX BCS team using Google Cloud, providing issue detection, insight and resolution.\\nMLOps is a core function of ML engineering, focused on taking ML models to production, maintaining and monitoring them.\\nCreated dashboards using Data Studio to gain observability over ML lifecycle by visualizing stability, performance and operational metrics.\\nHighlighted current infrastructure gaps that needed to be bridged and laid out an industry best practice roadmap for our use-case speci\\x00c needs.\\nHCL T echnologies  · D a t a  An a l y s t  ( Go o g l e  C l o u d P l a t f o r m ) · R e m o t e M a r .  2021   -  S e p .  2021\\nBuilt Dashboards and performed ETL tasks on dispersed data sources, allowing management to track progress and gain visibility.\\nCreated dashboards using Data Studio to improve our engineer's time use e\\x00ciency. Our insights improved productivity by ~10%.\\nEstablished and upheld the analytical and reporting set for our team, utilized data to \\x00nd improvement opportunities and make proposals to managers and stake-holders.\\nTook ownership of pipelines and analytical tools, keeping well documented instructions for processes while presenting results to non-technical folks.\\nProvided ongoing and ad-hoc analysis on existing reports, writing two or three SQL scripts from scratch for ETL on a daily basis.\\nCommer cial Ener gy o f Califor nia · D a t a  An a l y s t · O a k l a n d, C A S e p .  2019   -  N o v .  2020\\nLed initiative to automate all of our time-intensive manual analyses and reports, improving e\\x00ciency and increasing revenue.\\nResponsible for analyzing customer usage data to make recommendations to our customers, often cutting their bill by 25% .\\nReported natural gas price volatility for market changes versus historical data with visualizations for purchasing decisions daily.\\nBuilt models to automate savings analyses through self-initiative, rigorous cooperative e\\x00orts and research, reducing ~10 hours of work weekly for each individual involved.\\nLed the onboarding and instruction of a strategic savings plan generating thousands of dollars, which I also presented to C-level executives.\\nPr oper ty Management & Dev elopment  · M a n a g e r · P i n o l e , C A S e p .  2013   -  S e p .  2019\\nEstablish rental rates, Organize business expenses for 10+ residential/commercial properties, Supervising construction site overseeing ~10+ workers\\nEDUCA TION\\nAI Mak er sp ace Au g .  2023   -  S e p .  2023\\nLLM Ops  \\nPro\\x00cient in leveraging LLMs for product development, creating intricate apps using LangChain and LlamaIndex frameworks, contributing to open-source LLM projects, and collaborating on end-to-end Generative AI applications.\\nFour thBrain D e c .  2022   -  M a y  2023\\nMachine Learning Engineer  \\nMLE: Data-centric AI, ML Modeling, AI Applications, and MLOps\\nBuilding Gen AI: Build, deploy, and share an application using an LLM (HuggingFace Spaces) leveraging model \\x00ne-tuning and prompt engineering to optimize output.\\nBuilding with LLMs: Build and deploy LLM apps using open-source tools and frameworks. Fine-Tune LLMs, teach LLMs new structure, and build Q&A tools for your docs.\\nUniv er sity o f Colorado, Boulder J a n .  2022   -  C u r r e n t\\nM.S. Data Science 2023 \\nDS is a multidisciplinary \\x00eld that focuses on extracting knowledge and insights from datasets using a range of skills in applied mathematics, statistics and computer science.\\nSpringbo ar d Data Science Boot camp\\nData Wrangling and Visualization, Storytelling, Machine Learning, Big Data. 500+ hours of coursework. 10+ Jupyter Notebooks. 2 Capstones. Weekly mentor meetings.\\nUniv er sity o f Califor nia, Santa Barb ara\\nB.S. Actuarial Science 2017 \\nAS is a discipline that assesses \\x00nancial risks, using mathematical and statistical methods to de\\x00ne, analyze, and solve the \\x00nancial implications of uncertain future events\\nPR O JECTS\\nR e a l - t i m e  M u l t i l i n g u a l  C u s t o m  K e y w o r d S p o t t i n g 2023\\nDeveloped a lightweight few-shot learning model for personalization of keyword spotting or wake-word detection\\nTools used include AWS EC2, Hugging Face, GitHub, FastAPI, TensorFlow, Streamlit, Python\\nAchieved low False Rejection Rate (FRR) of 3.94% and False Acceptance Rate (FAR) of 5.78%\\nEnd-to-end run-time (Keyword selection, recording, \\x00ne-tune training and inference prediction) about 2-3 minutes\\nS p o t i f y  P l a y l i s t  R e c o m m e n de r  u s i n g  u s e r  t a s t e  v i a  AP I 2021\\nSpotify App that takes user's music taste to recommend songs and create a playlist for them using Spotify's Web API in under one minute.\\nCER TIFICA TES\\nGo o g l e  C l o u d · P r o f e s s i o n a l  M a c h i n e  Le a r n i n g  E n g i n e e r 2021\\n• Frame ML problems • Develop ML models • Automate & orchestrate ML pipelines • Monitor, optimize, and maintain ML solutions\\nPR OFESSIONALISM : Project Management, End-to-End Development, Resource Management, Con\\x00ict Resolution, Critical Thinking, Story Telling, Leadership, Communication, Collaboration, Creativity\\nPR OGRAMMING : Python, SQL, R, HTML, Git, Bash, Unix, Excel, Visual Basic, NumPy, Pandas, Matplotlib, Seaborn, Scipy, Scikit-learn, MLLib, PySpark (Koalas), Jupyter, FastAPI, Flask, Django, Altair, Streamlit\\nMA CHINE LE ARNING : ML Ops, ML Engineering, Data Wrangling/Scraping, Data Engineering, EDA, Data Analysis, Statistical Inference, Data Visualization, CI/CD, Continuous Monitoring\\nPL A TFORMS : GCP (BigQuery, Data Studio, Data\\x00ow, AutoML, VertexAI, Datalab, Dataprep), AWS (S3, EC2, EMR, Elastic Beanstalk, SageMaker), Databricks, Air\\x00ow, Docker, Kubernetes, Bootstrap, Tableau\\nAR TIFICIAL INTELLIGENCE : NLP (LDA, BoW, TF-IDF, word2vec, seq2seq), Computer Vision (Classi\\x00cation, Object Detection, Semantic Segmentation), Audio Signal Processing (librosa, torchaudio, wav2vec)\\nDEEP LE ARNING : TensorFlow (Lite, Keras), PyTorch (fast.ai, Lightning), MLPs, CNNs, RNNs (GRU/LSTM), GANs (cGAN/WGAN/CycleGAN), Transformers (BERT, DistilBERT)\\nAL GORITHMS : Linear Regression, Logistic Regression, SVMs, Random Forests, XGBoost, K-means, DBSCAN, PCASKILLS\\nV OL UNTEERING\\nAs c e n s i o n  S u m m e r  C a m p · Le a de r / C o u n s e l o r · R e dwa y , C A\\nCamp Counselor is responsible for youth development, safety, youth development, monitoring behavior, aiding campers struggling with separation anxiety and promoting the core values of the Ascension Greek Orthodox Church. Safety is the primary function of the position.\", start_char_idx=None, end_char_idx=None, text_template='{metadata_str}\\n\\n{content}', metadata_template='{key}: {value}', metadata_seperator='\\n'),\n",
       " Document(id_='0bc50ac7-c522-4207-ace3-9078f3cbf4db', embedding=None, metadata={'page_label': '2', 'file_name': 'ChristosResume.pdf'}, excluded_embed_metadata_keys=[], excluded_llm_metadata_keys=[], relationships={}, hash='cd29cdf895e020042e6ada5fa4e736202199ed9716c9ad20f05abcb8a1c8b189', text='', start_char_idx=None, end_char_idx=None, text_template='{metadata_str}\\n\\n{content}', metadata_template='{key}: {value}', metadata_seperator='\\n')]"
      ]
     },
     "execution_count": 8,
     "metadata": {},
     "output_type": "execute_result"
    }
   ],
   "source": [
    "documents"
   ]
  },
  {
   "cell_type": "code",
   "execution_count": 10,
   "metadata": {},
   "outputs": [
    {
     "name": "stdout",
     "output_type": "stream",
     "text": [
      "WARNING:llama_index.indices.service_context:chunk_size_limit is deprecated, please specify chunk_size instead\n",
      "chunk_size_limit is deprecated, please specify chunk_size instead\n"
     ]
    }
   ],
   "source": [
    "data_generator = DatasetGenerator.from_documents(documents)"
   ]
  },
  {
   "cell_type": "code",
   "execution_count": 13,
   "metadata": {},
   "outputs": [
    {
     "name": "stdout",
     "output_type": "stream",
     "text": [
      "INFO:openai:message='OpenAI API response' path=https://api.openai.com/v1/chat/completions processing_ms=14987 request_id=c95932769a06bdb7e07b3c047dd391bd response_code=200\n",
      "message='OpenAI API response' path=https://api.openai.com/v1/chat/completions processing_ms=14987 request_id=c95932769a06bdb7e07b3c047dd391bd response_code=200\n",
      "INFO:openai:message='OpenAI API response' path=https://api.openai.com/v1/chat/completions processing_ms=15236 request_id=59d947dcbf81be8d2840c70598b37792 response_code=200\n",
      "message='OpenAI API response' path=https://api.openai.com/v1/chat/completions processing_ms=15236 request_id=59d947dcbf81be8d2840c70598b37792 response_code=200\n",
      "INFO:openai:message='OpenAI API response' path=https://api.openai.com/v1/chat/completions processing_ms=15512 request_id=77525c5cc66b1686b459409414e56ab2 response_code=200\n",
      "message='OpenAI API response' path=https://api.openai.com/v1/chat/completions processing_ms=15512 request_id=77525c5cc66b1686b459409414e56ab2 response_code=200\n",
      "INFO:openai:message='OpenAI API response' path=https://api.openai.com/v1/chat/completions processing_ms=17872 request_id=93e74dbb7960d2c00852a1ee87f8fcfb response_code=200\n",
      "message='OpenAI API response' path=https://api.openai.com/v1/chat/completions processing_ms=17872 request_id=93e74dbb7960d2c00852a1ee87f8fcfb response_code=200\n",
      "INFO:openai:message='OpenAI API response' path=https://api.openai.com/v1/chat/completions processing_ms=17393 request_id=fd73e394a4dd989fec4c5bb5ba54cfda response_code=200\n",
      "message='OpenAI API response' path=https://api.openai.com/v1/chat/completions processing_ms=17393 request_id=fd73e394a4dd989fec4c5bb5ba54cfda response_code=200\n",
      "INFO:openai:message='OpenAI API response' path=https://api.openai.com/v1/chat/completions processing_ms=20300 request_id=a2ba9bce5eec052abe6f587121dfaa23 response_code=200\n",
      "message='OpenAI API response' path=https://api.openai.com/v1/chat/completions processing_ms=20300 request_id=a2ba9bce5eec052abe6f587121dfaa23 response_code=200\n"
     ]
    },
    {
     "data": {
      "text/plain": [
       "[\"What is Christos' main goal for the fourth quarter of 2023?\",\n",
       " 'How does Christos plan to make a positive impact on society?',\n",
       " 'What is Christos passionate about and enjoying learning?',\n",
       " 'What kind of environment is Christos looking for in a role?',\n",
       " 'What type of company is Christos hoping to work for?',\n",
       " 'What values does Christos want the company to align with?',\n",
       " 'How does Christos hope to add value to a team?',\n",
       " 'What industry experience does Christos want to gain in AI?',\n",
       " \"What is Christos' ultimate goal in relation to AI?\",\n",
       " 'What does Christos hope to build one day using AI?',\n",
       " 'How does the individual in the context information describe their role as a professional?',\n",
       " 'How does the individual demonstrate empathy in their professional life?',\n",
       " 'How does the individual show humility in their approach to their work?',\n",
       " 'What are some of the passions and interests mentioned by the individual?',\n",
       " 'How does the individual express their philanthropic nature through their work?',\n",
       " \"What is the individual's view on honesty and transparency in their professional life?\",\n",
       " 'How does the individual demonstrate their eagerness to learn?',\n",
       " 'How does the individual show dedication in their professional endeavors?',\n",
       " 'How does the individual prioritize integrity in their actions?',\n",
       " 'How does the individual showcase their resourcefulness in solving complex problems?',\n",
       " 'What is the work style that the individual finds most productive?',\n",
       " 'What topics has the individual been learning about in the past few years?',\n",
       " 'How does the individual spend dedicated time towards learning new skills or improving existing ones?',\n",
       " 'What does the individual enjoy about meeting with people and learning about their interests?',\n",
       " 'What is the unique strength of the individual in bridging engineering and business minds?',\n",
       " 'How does the individual align teams based on shared values?',\n",
       " \"Why is the ability to align technical solutions with business objectives valuable in today's complex business landscape?\",\n",
       " 'How does the individual foster collaboration and drive innovation?',\n",
       " 'What types of tasks or projects does the individual focus on during their morning focus block?',\n",
       " 'What types of courses and podcasts has the individual been engaging with to support their self-improvement journey?',\n",
       " \"What is Christos' professional background and expertise?\",\n",
       " 'What are some of the AI/ML tools that Christos has experience with?',\n",
       " 'In which companies or organizations has Christos worked as an AI/ML Engineer?',\n",
       " \"What is the focus of Christos' recent work at Learvo?\",\n",
       " 'How has Christos contributed to open-source LLM projects?',\n",
       " 'What were some of the tasks and responsibilities Christos had at Kaleidoscope Data?',\n",
       " 'What programming languages and tools did Christos use for data manipulation at Kaleidoscope Data?',\n",
       " 'What areas of AI and ML did Christos explore during their time at FourthBrain?',\n",
       " 'Can you explain the concept of Generative AI and how Christos has been involved in its development?',\n",
       " 'How has Christos applied their professional skills and qualities to make a difference in the field of AI and ML?',\n",
       " 'What are some key skills related to professionalism mentioned in the document?',\n",
       " 'Name three programming languages mentioned in the document.',\n",
       " 'What are some platforms mentioned in the document for data analysis and visualization?',\n",
       " 'What are some areas of artificial intelligence mentioned in the document?',\n",
       " 'Name two deep learning frameworks mentioned in the document.',\n",
       " 'What are some machine learning techniques mentioned in the document?',\n",
       " 'Name two cloud platforms mentioned in the document.',\n",
       " 'What are some algorithms mentioned in the document for classification?',\n",
       " 'Name two libraries mentioned in the document for data visualization.',\n",
       " 'What are some project management skills mentioned in the document?',\n",
       " 'What is the role of a Machine Learning Engineer according to the context information?',\n",
       " 'What were the responsibilities of the AI/ML Engineer at Kaleidoscope Data?',\n",
       " \"How did the Data Scientist intern at Cisco contribute to the team's workflow?\",\n",
       " 'What tasks did the Data Analyst at HCL Technologies perform using Google Cloud Platform?',\n",
       " 'How did the Data Analyst at Commercial Energy of California automate manual analyses and reports?',\n",
       " 'What is the educational background of the candidate?',\n",
       " 'What projects did the candidate work on related to keyword spotting and Spotify playlist recommendation?',\n",
       " 'What certificate did the candidate earn from Google Cloud?',\n",
       " 'What programming languages and tools is the candidate proficient in?',\n",
       " 'What are some of the skills and expertise mentioned in the context information?']"
      ]
     },
     "execution_count": 13,
     "metadata": {},
     "output_type": "execute_result"
    }
   ],
   "source": [
    "eval_questions = data_generator.generate_questions_from_nodes()\n",
    "eval_questions"
   ]
  },
  {
   "cell_type": "code",
   "execution_count": 18,
   "metadata": {},
   "outputs": [],
   "source": [
    "# gpt-4\n",
    "gpt4 = OpenAI(temperature=0, model=\"gpt-4\")\n",
    "service_context_gpt4 = ServiceContext.from_defaults(llm=gpt4)"
   ]
  },
  {
   "cell_type": "code",
   "execution_count": 19,
   "metadata": {},
   "outputs": [],
   "source": [
    "evaluator_gpt4 = RelevancyEvaluator(service_context=service_context_gpt4)"
   ]
  },
  {
   "cell_type": "code",
   "execution_count": 20,
   "metadata": {},
   "outputs": [],
   "source": [
    "# create vector index\n",
    "vector_index = VectorStoreIndex.from_documents(\n",
    "    documents, service_context=service_context_gpt4\n",
    ")"
   ]
  },
  {
   "cell_type": "code",
   "execution_count": 21,
   "metadata": {},
   "outputs": [],
   "source": [
    "# define jupyter display function\n",
    "def display_eval_df(query: str, response: Response, eval_result: str) -> None:\n",
    "    eval_df = pd.DataFrame(\n",
    "        {\n",
    "            \"Query\": query,\n",
    "            \"Response\": str(response),\n",
    "            \"Source\": response.source_nodes[0].node.get_content()[:1000] + \"...\",\n",
    "            \"Evaluation Result\": eval_result,\n",
    "        },\n",
    "        index=[0],\n",
    "    )\n",
    "    eval_df = eval_df.style.set_properties(\n",
    "        **{\n",
    "            \"inline-size\": \"600px\",\n",
    "            \"overflow-wrap\": \"break-word\",\n",
    "        },\n",
    "        subset=[\"Response\", \"Source\"]\n",
    "    )\n",
    "    display(eval_df)"
   ]
  },
  {
   "cell_type": "code",
   "execution_count": 22,
   "metadata": {},
   "outputs": [
    {
     "name": "stdout",
     "output_type": "stream",
     "text": [
      "INFO:openai:message='OpenAI API response' path=https://api.openai.com/v1/chat/completions processing_ms=673 request_id=d239a82428f89b7665934139b7da61c3 response_code=200\n",
      "message='OpenAI API response' path=https://api.openai.com/v1/chat/completions processing_ms=673 request_id=d239a82428f89b7665934139b7da61c3 response_code=200\n"
     ]
    }
   ],
   "source": [
    "query_engine = vector_index.as_query_engine()\n",
    "response_vector = query_engine.query(eval_questions[1])\n",
    "eval_result = evaluator_gpt4.evaluate_response(\n",
    "    query=eval_questions[1], response=response_vector\n",
    ")"
   ]
  },
  {
   "cell_type": "code",
   "execution_count": 24,
   "metadata": {},
   "outputs": [
    {
     "data": {
      "text/plain": [
       "'How does Christos plan to make a positive impact on society?'"
      ]
     },
     "execution_count": 24,
     "metadata": {},
     "output_type": "execute_result"
    }
   ],
   "source": [
    "eval_questions[1]"
   ]
  },
  {
   "cell_type": "code",
   "execution_count": 25,
   "metadata": {},
   "outputs": [
    {
     "data": {
      "text/plain": [
       "Response(response='Christos plans to make a positive impact on society by accelerating technological advancement using Artificial Intelligence and Machine Learning tools to solve real-world problems. He is passionate about this and enjoys learning as much as he can on the topic. He is also looking for a role in an environment that encourages learning and growth, with a team that is passionate about what they do. Ideally, he wants to find a company that is focused on solving real-world problems with AI using technology and/or scientific research. His goal is to leverage his experience and strengths to add value to the team and gain a breadth and depth of industry experience in AI. This will enable him to contribute to a greater good and potentially build something of his own that solves a real-world problem through AI.', source_nodes=[NodeWithScore(node=TextNode(id_='fc39e74a-a9cc-4cad-9869-75052faec1a3', embedding=None, metadata={'page_label': '1', 'file_name': 'Christos2023Q4Goals+Values.pdf'}, excluded_embed_metadata_keys=[], excluded_llm_metadata_keys=[], relationships={<NodeRelationship.SOURCE: '1'>: RelatedNodeInfo(node_id='d5186211-02cb-41eb-889d-59c9b2b2beb3', node_type=None, metadata={'page_label': '1', 'file_name': 'Christos2023Q4Goals+Values.pdf'}, hash='2673340e6a6f92d2c5299e5ba02a3e5c41fea9fee830b5c439006fd30f9148d8')}, hash='2673340e6a6f92d2c5299e5ba02a3e5c41fea9fee830b5c439006fd30f9148d8', text=\"Christos'\\n2023\\nQ4\\nGoals\\nand\\nValues\\nWhat\\ndo\\nI\\nwant\\nto\\naccomplish?\\nI\\nwant\\nto\\nmake\\na\\npositive\\nimpact\\non\\nsociety\\nby\\naccelerating\\ntechnological\\nadvancement\\nusing\\nArtificial\\nIntelligence\\nand\\nMachine\\nLearning\\ntools\\nto\\nsolve\\nreal-world\\nproblems.\\nI\\nam\\nvery\\npassionate\\nabout\\nit\\nand\\nenjoying\\nlearning\\nas\\nmuch\\nas\\nI\\ncan\\non\\nthe\\ntopic.\\nI\\nlove\\nhelping\\npeople\\nand\\nlearning\\nabout\\ntheir\\nexperiences.\\nI\\nam\\nlooking\\nfor\\na\\nrole\\nin\\nan\\nenvironment\\nthat\\nencourages\\nlearning,\\ngrowth\\n(subject-matter\\nexpertise),\\na\\nteam\\nthat\\nis\\nalso\\npassionate\\nabout\\nwhat\\nthey\\ndo\\nand\\nideally\\non\\na\\nmission\\nto\\nmake\\na\\npositive\\nimpact\\nI\\nalign\\nwith.\\nI\\nwant\\nto\\nfind\\na\\ncompany\\nthat\\nis\\nfocused\\non\\nsolving\\nreal\\nworld\\nproblems\\nwith\\nAI\\nusing\\ntechnology\\nand/or\\nscientific\\nresearch.\\nIdeally\\nthis\\ncompany\\nmatches\\nmy\\nvalues,\\nenables\\nmy\\nworking\\nstyle\\nand\\nencourages\\nme\\nto\\ngrow\\nand\\nlearn.\\nI\\nwant\\nto\\nbe\\nin\\na\\nrole\\nthat\\nleverages\\nmy\\nexperience\\nand\\nstrengths\\nto\\nadd\\nvalue\\nto\\nthe\\nteam.\\nI\\nhope\\nthat\\nthe\\nrole\\nwill\\nalso\\nallow\\nme\\nto\\ngain\\na\\nbreadth\\nand\\ndepth\\nof\\nindustry\\nexperience\\nin\\nAI\\nsuch\\nthat\\nI\\ncan\\nlearn\\nand\\ncontribute\\nto\\na\\ngreater\\ngood\\nand\\none\\nday\\nbuild\\nsomething\\nof\\nmy\\nown\\nthat\\nsolves\\na\\nreal\\nworld\\nproblem\\nthrough\\nAI.\", start_char_idx=None, end_char_idx=None, text_template='{metadata_str}\\n\\n{content}', metadata_template='{key}: {value}', metadata_seperator='\\n'), score=0.8268753083895549), NodeWithScore(node=TextNode(id_='acc0f4e1-462e-41d7-8358-2d54354e8a89', embedding=None, metadata={'page_label': '2', 'file_name': 'Christos2023Q4Goals+Values.pdf'}, excluded_embed_metadata_keys=[], excluded_llm_metadata_keys=[], relationships={<NodeRelationship.SOURCE: '1'>: RelatedNodeInfo(node_id='19b37d56-021e-4780-8f69-3abcb35021f2', node_type=None, metadata={'page_label': '2', 'file_name': 'Christos2023Q4Goals+Values.pdf'}, hash='709362267194434c9b4f947d45e0c1c3b7da662451e48b065e0b2e10abcdab0b')}, hash='709362267194434c9b4f947d45e0c1c3b7da662451e48b065e0b2e10abcdab0b', text=\"W h a ta mIg o o da tp r o f e s s i o n a l l y ?\\nPositive:Iamtheluminoustorchbearer,guidingusthroughuncertaintytotherealmsofpromise.Whengivenachance,Iupliftteamspiritandpropelforwardmomentum.e.g.Ineveryrole,myunwaveringoptimismgalvanizedteamstoachievegreatness.\\nEmpathetic:Mykeensenseforothers'emotionsbridgesthegapbetweentechnicalmindsandthehumanspirit,seamlesslyconnectingdiversepersonalitiestowardsaunitedmission.e.g.AtCE,Istoodasanexusbetweensales,analytics,andclients,constantlywalkingintheirshoesandamplifyingunheardvoices.Similarly ,atCisco,Iresonatedwithcross-departmen talchalleng es,forgingconnections.\\nHumble:Iviewmyselfasanevolvingcanvas,alwaysopentofeedbackandseekingavenuesforenhancemen t.e.g.Inmanagementsessions,Iardentlyseekconstructivefeedbacktorefinemyapproach.\\nPassionate:WhenI'mimmersedinmypassions,myenthusiasmiscontagious.MyfervorextendstoAI,humanconnections,music,self-betterment,andtheartoflearning.e.g.InAIworkshops,myexcitementsparksacollaborative,energeticenvironment.\\nPhilanthropic:Withaprofoundloveforhumanity ,I'mdriventoupliftlives.Throughtechnology ,I'monarelentlessquesttoleavealastingsocietalimprint.\\nHonest:Ichampionhonestyastheultimatecompass.Throughtransparency,Ibelievewefindthebestalignmen tsandsolutions.\\nEagertolearn:Iamcuriousandhaveanappetiteforknowledge.\\nDedicated:Iamunwaveringinmycommitmen t,alwaysgivingmyutmosttoeveryendeavor.\\nIntegrity:Mymoralcompassissteadfast,ensuringIactwithhonorineverysituation.\\nResourceful:Ithriveinchalleng es,alwaysfindinginnovativesolutionstocomplexproblems.\", start_char_idx=None, end_char_idx=None, text_template='{metadata_str}\\n\\n{content}', metadata_template='{key}: {value}', metadata_seperator='\\n'), score=0.7907765713673813)], metadata={'fc39e74a-a9cc-4cad-9869-75052faec1a3': {'page_label': '1', 'file_name': 'Christos2023Q4Goals+Values.pdf'}, 'acc0f4e1-462e-41d7-8358-2d54354e8a89': {'page_label': '2', 'file_name': 'Christos2023Q4Goals+Values.pdf'}})"
      ]
     },
     "execution_count": 25,
     "metadata": {},
     "output_type": "execute_result"
    }
   ],
   "source": [
    "response_vector"
   ]
  },
  {
   "cell_type": "code",
   "execution_count": 29,
   "metadata": {},
   "outputs": [
    {
     "data": {
      "text/plain": [
       "EvaluationResult(query='How does Christos plan to make a positive impact on society?', contexts=None, response='Christos plans to make a positive impact on society by accelerating technological advancement using Artificial Intelligence and Machine Learning tools to solve real-world problems. He is passionate about this and enjoys learning as much as he can on the topic. He is also looking for a role in an environment that encourages learning and growth, with a team that is passionate about what they do. Ideally, he wants to find a company that is focused on solving real-world problems with AI using technology and/or scientific research. His goal is to leverage his experience and strengths to add value to the team and gain a breadth and depth of industry experience in AI. This will enable him to contribute to a greater good and potentially build something of his own that solves a real-world problem through AI.', passing=True, feedback='YES', score=1.0)"
      ]
     },
     "execution_count": 29,
     "metadata": {},
     "output_type": "execute_result"
    }
   ],
   "source": [
    "eval_result"
   ]
  },
  {
   "cell_type": "code",
   "execution_count": 30,
   "metadata": {},
   "outputs": [
    {
     "data": {
      "text/html": [
       "<style type=\"text/css\">\n",
       "#T_8a13b_row0_col1, #T_8a13b_row0_col2 {\n",
       "  inline-size: 600px;\n",
       "  overflow-wrap: break-word;\n",
       "}\n",
       "</style>\n",
       "<table id=\"T_8a13b\">\n",
       "  <thead>\n",
       "    <tr>\n",
       "      <th class=\"blank level0\" >&nbsp;</th>\n",
       "      <th id=\"T_8a13b_level0_col0\" class=\"col_heading level0 col0\" >Query</th>\n",
       "      <th id=\"T_8a13b_level0_col1\" class=\"col_heading level0 col1\" >Response</th>\n",
       "      <th id=\"T_8a13b_level0_col2\" class=\"col_heading level0 col2\" >Source</th>\n",
       "      <th id=\"T_8a13b_level0_col3\" class=\"col_heading level0 col3\" >Evaluation Result</th>\n",
       "    </tr>\n",
       "  </thead>\n",
       "  <tbody>\n",
       "    <tr>\n",
       "      <th id=\"T_8a13b_level0_row0\" class=\"row_heading level0 row0\" >0</th>\n",
       "      <td id=\"T_8a13b_row0_col0\" class=\"data row0 col0\" >How does Christos plan to make a positive impact on society?</td>\n",
       "      <td id=\"T_8a13b_row0_col1\" class=\"data row0 col1\" >Christos plans to make a positive impact on society by accelerating technological advancement using Artificial Intelligence and Machine Learning tools to solve real-world problems. He is passionate about this and enjoys learning as much as he can on the topic. He is also looking for a role in an environment that encourages learning and growth, with a team that is passionate about what they do. Ideally, he wants to find a company that is focused on solving real-world problems with AI using technology and/or scientific research. His goal is to leverage his experience and strengths to add value to the team and gain a breadth and depth of industry experience in AI. This will enable him to contribute to a greater good and potentially build something of his own that solves a real-world problem through AI.</td>\n",
       "      <td id=\"T_8a13b_row0_col2\" class=\"data row0 col2\" >Christos'\n",
       "2023\n",
       "Q4\n",
       "Goals\n",
       "and\n",
       "Values\n",
       "What\n",
       "do\n",
       "I\n",
       "want\n",
       "to\n",
       "accomplish?\n",
       "I\n",
       "want\n",
       "to\n",
       "make\n",
       "a\n",
       "positive\n",
       "impact\n",
       "on\n",
       "society\n",
       "by\n",
       "accelerating\n",
       "technological\n",
       "advancement\n",
       "using\n",
       "Artificial\n",
       "Intelligence\n",
       "and\n",
       "Machine\n",
       "Learning\n",
       "tools\n",
       "to\n",
       "solve\n",
       "real-world\n",
       "problems.\n",
       "I\n",
       "am\n",
       "very\n",
       "passionate\n",
       "about\n",
       "it\n",
       "and\n",
       "enjoying\n",
       "learning\n",
       "as\n",
       "much\n",
       "as\n",
       "I\n",
       "can\n",
       "on\n",
       "the\n",
       "topic.\n",
       "I\n",
       "love\n",
       "helping\n",
       "people\n",
       "and\n",
       "learning\n",
       "about\n",
       "their\n",
       "experiences.\n",
       "I\n",
       "am\n",
       "looking\n",
       "for\n",
       "a\n",
       "role\n",
       "in\n",
       "an\n",
       "environment\n",
       "that\n",
       "encourages\n",
       "learning,\n",
       "growth\n",
       "(subject-matter\n",
       "expertise),\n",
       "a\n",
       "team\n",
       "that\n",
       "is\n",
       "also\n",
       "passionate\n",
       "about\n",
       "what\n",
       "they\n",
       "do\n",
       "and\n",
       "ideally\n",
       "on\n",
       "a\n",
       "mission\n",
       "to\n",
       "make\n",
       "a\n",
       "positive\n",
       "impact\n",
       "I\n",
       "align\n",
       "with.\n",
       "I\n",
       "want\n",
       "to\n",
       "find\n",
       "a\n",
       "company\n",
       "that\n",
       "is\n",
       "focused\n",
       "on\n",
       "solving\n",
       "real\n",
       "world\n",
       "problems\n",
       "with\n",
       "AI\n",
       "using\n",
       "technology\n",
       "and/or\n",
       "scientific\n",
       "research.\n",
       "Ideally\n",
       "this\n",
       "company\n",
       "matches\n",
       "my\n",
       "values,\n",
       "enables\n",
       "my\n",
       "working\n",
       "style\n",
       "and\n",
       "encourages\n",
       "me\n",
       "to\n",
       "grow\n",
       "and\n",
       "learn.\n",
       "I\n",
       "want\n",
       "to\n",
       "be\n",
       "in\n",
       "a\n",
       "role\n",
       "that\n",
       "leverages\n",
       "my\n",
       "experience\n",
       "and\n",
       "strengths\n",
       "to\n",
       "add\n",
       "value\n",
       "to\n",
       "the\n",
       "team.\n",
       "I\n",
       "hope\n",
       "that\n",
       "the\n",
       "role\n",
       "will\n",
       "also\n",
       "allow\n",
       "me\n",
       "to\n",
       "gain\n",
       "a\n",
       "breadth\n",
       "and\n",
       "depth\n",
       "of\n",
       "industry\n",
       "ex...</td>\n",
       "      <td id=\"T_8a13b_row0_col3\" class=\"data row0 col3\" >YES</td>\n",
       "    </tr>\n",
       "  </tbody>\n",
       "</table>\n"
      ],
      "text/plain": [
       "<pandas.io.formats.style.Styler at 0x7fabc9a801c0>"
      ]
     },
     "metadata": {},
     "output_type": "display_data"
    }
   ],
   "source": [
    "display_eval_df(eval_questions[1], response_vector, eval_result.feedback)"
   ]
  },
  {
   "cell_type": "code",
   "execution_count": 32,
   "metadata": {},
   "outputs": [
    {
     "data": {
      "text/plain": [
       "'{\"query\": \"How does Christos plan to make a positive impact on society?\", \"contexts\": null, \"response\": \"Christos plans to make a positive impact on society by accelerating technological advancement using Artificial Intelligence and Machine Learning tools to solve real-world problems. He is passionate about this and enjoys learning as much as he can on the topic. He is also looking for a role in an environment that encourages learning and growth, with a team that is passionate about what they do. Ideally, he wants to find a company that is focused on solving real-world problems with AI using technology and/or scientific research. His goal is to leverage his experience and strengths to add value to the team and gain a breadth and depth of industry experience in AI. This will enable him to contribute to a greater good and potentially build something of his own that solves a real-world problem through AI.\", \"passing\": true, \"feedback\": \"YES\", \"score\": 1.0}'"
      ]
     },
     "execution_count": 32,
     "metadata": {},
     "output_type": "execute_result"
    }
   ],
   "source": [
    "eval_result.json()"
   ]
  },
  {
   "cell_type": "code",
   "execution_count": null,
   "metadata": {},
   "outputs": [],
   "source": [
    "eval_results = [evaluator_gpt4.evaluate_response(query=eval_questions[i], response=query_engine.query(eval_questions[i])) for i in range(len(eval_questions))]"
   ]
  },
  {
   "cell_type": "code",
   "execution_count": 55,
   "metadata": {},
   "outputs": [
    {
     "data": {
      "text/html": [
       "<div>\n",
       "<style scoped>\n",
       "    .dataframe tbody tr th:only-of-type {\n",
       "        vertical-align: middle;\n",
       "    }\n",
       "\n",
       "    .dataframe tbody tr th {\n",
       "        vertical-align: top;\n",
       "    }\n",
       "\n",
       "    .dataframe thead th {\n",
       "        text-align: right;\n",
       "    }\n",
       "</style>\n",
       "<table border=\"1\" class=\"dataframe\">\n",
       "  <thead>\n",
       "    <tr style=\"text-align: right;\">\n",
       "      <th></th>\n",
       "      <th>query</th>\n",
       "      <th>contexts</th>\n",
       "      <th>response</th>\n",
       "      <th>passing</th>\n",
       "      <th>feedback</th>\n",
       "      <th>score</th>\n",
       "    </tr>\n",
       "  </thead>\n",
       "  <tbody>\n",
       "    <tr>\n",
       "      <th>0</th>\n",
       "      <td>What is Christos' main goal for the fourth qua...</td>\n",
       "      <td>None</td>\n",
       "      <td>Christos' main goal for the fourth quarter of ...</td>\n",
       "      <td>True</td>\n",
       "      <td>YES</td>\n",
       "      <td>1.0</td>\n",
       "    </tr>\n",
       "    <tr>\n",
       "      <th>1</th>\n",
       "      <td>How does Christos plan to make a positive impa...</td>\n",
       "      <td>None</td>\n",
       "      <td>Christos plans to make a positive impact on so...</td>\n",
       "      <td>True</td>\n",
       "      <td>YES</td>\n",
       "      <td>1.0</td>\n",
       "    </tr>\n",
       "    <tr>\n",
       "      <th>2</th>\n",
       "      <td>What is Christos passionate about and enjoying...</td>\n",
       "      <td>None</td>\n",
       "      <td>Christos is passionate about making a positive...</td>\n",
       "      <td>True</td>\n",
       "      <td>YES</td>\n",
       "      <td>1.0</td>\n",
       "    </tr>\n",
       "    <tr>\n",
       "      <th>3</th>\n",
       "      <td>What kind of environment is Christos looking f...</td>\n",
       "      <td>None</td>\n",
       "      <td>Christos is looking for an environment that en...</td>\n",
       "      <td>True</td>\n",
       "      <td>YES</td>\n",
       "      <td>1.0</td>\n",
       "    </tr>\n",
       "    <tr>\n",
       "      <th>4</th>\n",
       "      <td>What type of company is Christos hoping to wor...</td>\n",
       "      <td>None</td>\n",
       "      <td>Christos is hoping to work for a company that ...</td>\n",
       "      <td>True</td>\n",
       "      <td>YES</td>\n",
       "      <td>1.0</td>\n",
       "    </tr>\n",
       "  </tbody>\n",
       "</table>\n",
       "</div>"
      ],
      "text/plain": [
       "                                               query contexts  \\\n",
       "0  What is Christos' main goal for the fourth qua...     None   \n",
       "1  How does Christos plan to make a positive impa...     None   \n",
       "2  What is Christos passionate about and enjoying...     None   \n",
       "3  What kind of environment is Christos looking f...     None   \n",
       "4  What type of company is Christos hoping to wor...     None   \n",
       "\n",
       "                                            response  passing feedback  score  \n",
       "0  Christos' main goal for the fourth quarter of ...     True      YES    1.0  \n",
       "1  Christos plans to make a positive impact on so...     True      YES    1.0  \n",
       "2  Christos is passionate about making a positive...     True      YES    1.0  \n",
       "3  Christos is looking for an environment that en...     True      YES    1.0  \n",
       "4  Christos is hoping to work for a company that ...     True      YES    1.0  "
      ]
     },
     "execution_count": 55,
     "metadata": {},
     "output_type": "execute_result"
    }
   ],
   "source": [
    "# Convert to DataFrame\n",
    "df = pd.DataFrame([eval.__dict__ for eval in eval_results])\n",
    "df.head()"
   ]
  },
  {
   "cell_type": "code",
   "execution_count": 57,
   "metadata": {},
   "outputs": [],
   "source": [
    "df.to_csv(\"../output/cam-qa-dataset.csv\")"
   ]
  }
 ],
 "metadata": {
  "kernelspec": {
   "display_name": "aim-llm-obs",
   "language": "python",
   "name": "python3"
  },
  "language_info": {
   "codemirror_mode": {
    "name": "ipython",
    "version": 3
   },
   "file_extension": ".py",
   "mimetype": "text/x-python",
   "name": "python",
   "nbconvert_exporter": "python",
   "pygments_lexer": "ipython3",
   "version": "3.10.13"
  },
  "orig_nbformat": 4
 },
 "nbformat": 4,
 "nbformat_minor": 2
}
